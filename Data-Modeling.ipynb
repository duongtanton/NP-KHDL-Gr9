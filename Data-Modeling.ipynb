{
 "cells": [
  {
   "cell_type": "code",
   "execution_count": 784,
   "metadata": {},
   "outputs": [],
   "source": [
    "import numpy as np\n",
    "import pandas as pd\n",
    "import seaborn as sns\n",
    "import matplotlib.pyplot as plt"
   ]
  },
  {
   "cell_type": "code",
   "execution_count": 785,
   "metadata": {},
   "outputs": [
    {
     "data": {
      "text/html": [
       "<div>\n",
       "<style scoped>\n",
       "    .dataframe tbody tr th:only-of-type {\n",
       "        vertical-align: middle;\n",
       "    }\n",
       "\n",
       "    .dataframe tbody tr th {\n",
       "        vertical-align: top;\n",
       "    }\n",
       "\n",
       "    .dataframe thead th {\n",
       "        text-align: right;\n",
       "    }\n",
       "</style>\n",
       "<table border=\"1\" class=\"dataframe\">\n",
       "  <thead>\n",
       "    <tr style=\"text-align: right;\">\n",
       "      <th></th>\n",
       "      <th>Time</th>\n",
       "      <th>Temperature</th>\n",
       "      <th>Heat Index</th>\n",
       "      <th>Temperature Feels Like</th>\n",
       "      <th>Dew Point</th>\n",
       "      <th>Humidity</th>\n",
       "      <th>Wind Force</th>\n",
       "      <th>Wind Speed</th>\n",
       "      <th>Pressure</th>\n",
       "      <th>UV Description</th>\n",
       "      <th>UV Index</th>\n",
       "      <th>Condition</th>\n",
       "    </tr>\n",
       "  </thead>\n",
       "  <tbody>\n",
       "    <tr>\n",
       "      <th>0</th>\n",
       "      <td>2021-01-01 00:00:00</td>\n",
       "      <td>75</td>\n",
       "      <td>75.0</td>\n",
       "      <td>75.0</td>\n",
       "      <td>61.0</td>\n",
       "      <td>61.0</td>\n",
       "      <td>6.0</td>\n",
       "      <td>8</td>\n",
       "      <td>29.85</td>\n",
       "      <td>Low</td>\n",
       "      <td>0</td>\n",
       "      <td>Cloudy</td>\n",
       "    </tr>\n",
       "    <tr>\n",
       "      <th>1</th>\n",
       "      <td>2021-01-01 00:30:00</td>\n",
       "      <td>75</td>\n",
       "      <td>75.0</td>\n",
       "      <td>75.0</td>\n",
       "      <td>61.0</td>\n",
       "      <td>61.0</td>\n",
       "      <td>6.0</td>\n",
       "      <td>7</td>\n",
       "      <td>29.85</td>\n",
       "      <td>Low</td>\n",
       "      <td>0</td>\n",
       "      <td>Cloudy</td>\n",
       "    </tr>\n",
       "    <tr>\n",
       "      <th>2</th>\n",
       "      <td>2021-01-01 01:00:00</td>\n",
       "      <td>75</td>\n",
       "      <td>75.0</td>\n",
       "      <td>75.0</td>\n",
       "      <td>61.0</td>\n",
       "      <td>61.0</td>\n",
       "      <td>6.0</td>\n",
       "      <td>7</td>\n",
       "      <td>29.82</td>\n",
       "      <td>Low</td>\n",
       "      <td>0</td>\n",
       "      <td>Cloudy</td>\n",
       "    </tr>\n",
       "    <tr>\n",
       "      <th>3</th>\n",
       "      <td>2021-01-01 01:30:00</td>\n",
       "      <td>73</td>\n",
       "      <td>73.0</td>\n",
       "      <td>73.0</td>\n",
       "      <td>61.0</td>\n",
       "      <td>65.0</td>\n",
       "      <td>4.0</td>\n",
       "      <td>6</td>\n",
       "      <td>29.82</td>\n",
       "      <td>Low</td>\n",
       "      <td>0</td>\n",
       "      <td>Cloudy</td>\n",
       "    </tr>\n",
       "    <tr>\n",
       "      <th>4</th>\n",
       "      <td>2021-01-01 02:00:00</td>\n",
       "      <td>73</td>\n",
       "      <td>73.0</td>\n",
       "      <td>73.0</td>\n",
       "      <td>61.0</td>\n",
       "      <td>65.0</td>\n",
       "      <td>4.0</td>\n",
       "      <td>6</td>\n",
       "      <td>29.82</td>\n",
       "      <td>Low</td>\n",
       "      <td>0</td>\n",
       "      <td>Cloudy</td>\n",
       "    </tr>\n",
       "  </tbody>\n",
       "</table>\n",
       "</div>"
      ],
      "text/plain": [
       "                  Time  Temperature  Heat Index  Temperature Feels Like  \\\n",
       "0  2021-01-01 00:00:00           75        75.0                    75.0   \n",
       "1  2021-01-01 00:30:00           75        75.0                    75.0   \n",
       "2  2021-01-01 01:00:00           75        75.0                    75.0   \n",
       "3  2021-01-01 01:30:00           73        73.0                    73.0   \n",
       "4  2021-01-01 02:00:00           73        73.0                    73.0   \n",
       "\n",
       "   Dew Point  Humidity  Wind Force  Wind Speed  Pressure UV Description  \\\n",
       "0       61.0      61.0         6.0           8     29.85            Low   \n",
       "1       61.0      61.0         6.0           7     29.85            Low   \n",
       "2       61.0      61.0         6.0           7     29.82            Low   \n",
       "3       61.0      65.0         4.0           6     29.82            Low   \n",
       "4       61.0      65.0         4.0           6     29.82            Low   \n",
       "\n",
       "   UV Index Condition  \n",
       "0         0    Cloudy  \n",
       "1         0    Cloudy  \n",
       "2         0    Cloudy  \n",
       "3         0    Cloudy  \n",
       "4         0    Cloudy  "
      ]
     },
     "execution_count": 785,
     "metadata": {},
     "output_type": "execute_result"
    }
   ],
   "source": [
    "df = pd.read_csv('weather-2021-preprocessed.csv')\n",
    "df.head()"
   ]
  },
  {
   "cell_type": "code",
   "execution_count": 786,
   "metadata": {},
   "outputs": [],
   "source": [
    "df_copy = df.copy()"
   ]
  },
  {
   "cell_type": "code",
   "execution_count": 787,
   "metadata": {},
   "outputs": [
    {
     "data": {
      "text/plain": [
       "Time                       0\n",
       "Temperature                0\n",
       "Heat Index                 2\n",
       "Temperature Feels Like     2\n",
       "Dew Point                  2\n",
       "Humidity                   2\n",
       "Wind Force                 0\n",
       "Wind Speed                 0\n",
       "Pressure                  10\n",
       "UV Description             0\n",
       "UV Index                   0\n",
       "Condition                  0\n",
       "dtype: int64"
      ]
     },
     "execution_count": 787,
     "metadata": {},
     "output_type": "execute_result"
    }
   ],
   "source": [
    "df_copy.isnull().sum()"
   ]
  },
  {
   "cell_type": "code",
   "execution_count": 788,
   "metadata": {},
   "outputs": [],
   "source": [
    "missing_cols = df.columns[df.isnull().any()]"
   ]
  },
  {
   "cell_type": "code",
   "execution_count": 789,
   "metadata": {},
   "outputs": [
    {
     "data": {
      "text/html": [
       "<div>\n",
       "<style scoped>\n",
       "    .dataframe tbody tr th:only-of-type {\n",
       "        vertical-align: middle;\n",
       "    }\n",
       "\n",
       "    .dataframe tbody tr th {\n",
       "        vertical-align: top;\n",
       "    }\n",
       "\n",
       "    .dataframe thead th {\n",
       "        text-align: right;\n",
       "    }\n",
       "</style>\n",
       "<table border=\"1\" class=\"dataframe\">\n",
       "  <thead>\n",
       "    <tr style=\"text-align: right;\">\n",
       "      <th></th>\n",
       "      <th>Temperature</th>\n",
       "      <th>Heat Index</th>\n",
       "      <th>Temperature Feels Like</th>\n",
       "      <th>Dew Point</th>\n",
       "      <th>Humidity</th>\n",
       "      <th>Wind Force</th>\n",
       "      <th>Wind Speed</th>\n",
       "      <th>Pressure</th>\n",
       "      <th>UV Index</th>\n",
       "    </tr>\n",
       "    <tr>\n",
       "      <th>Condition</th>\n",
       "      <th></th>\n",
       "      <th></th>\n",
       "      <th></th>\n",
       "      <th></th>\n",
       "      <th></th>\n",
       "      <th></th>\n",
       "      <th></th>\n",
       "      <th></th>\n",
       "      <th></th>\n",
       "    </tr>\n",
       "  </thead>\n",
       "  <tbody>\n",
       "    <tr>\n",
       "      <th>Cloudy</th>\n",
       "      <td>83.087897</td>\n",
       "      <td>89.488255</td>\n",
       "      <td>89.488255</td>\n",
       "      <td>74.489966</td>\n",
       "      <td>77.177116</td>\n",
       "      <td>5.554838</td>\n",
       "      <td>5.766490</td>\n",
       "      <td>29.754057</td>\n",
       "      <td>2.028936</td>\n",
       "    </tr>\n",
       "    <tr>\n",
       "      <th>Fair</th>\n",
       "      <td>82.007961</td>\n",
       "      <td>86.613595</td>\n",
       "      <td>86.613595</td>\n",
       "      <td>71.213411</td>\n",
       "      <td>71.656767</td>\n",
       "      <td>5.625842</td>\n",
       "      <td>6.134415</td>\n",
       "      <td>29.795993</td>\n",
       "      <td>1.859767</td>\n",
       "    </tr>\n",
       "    <tr>\n",
       "      <th>Fog / Haze</th>\n",
       "      <td>78.539326</td>\n",
       "      <td>80.966292</td>\n",
       "      <td>80.966292</td>\n",
       "      <td>74.528090</td>\n",
       "      <td>89.134831</td>\n",
       "      <td>1.593933</td>\n",
       "      <td>2.359551</td>\n",
       "      <td>29.813596</td>\n",
       "      <td>1.337079</td>\n",
       "    </tr>\n",
       "    <tr>\n",
       "      <th>Rain</th>\n",
       "      <td>80.347041</td>\n",
       "      <td>85.548193</td>\n",
       "      <td>85.548193</td>\n",
       "      <td>76.720884</td>\n",
       "      <td>89.754016</td>\n",
       "      <td>4.364343</td>\n",
       "      <td>6.597793</td>\n",
       "      <td>29.723861</td>\n",
       "      <td>1.989970</td>\n",
       "    </tr>\n",
       "    <tr>\n",
       "      <th>T-Storm</th>\n",
       "      <td>77.840000</td>\n",
       "      <td>80.990000</td>\n",
       "      <td>80.990000</td>\n",
       "      <td>75.980000</td>\n",
       "      <td>94.400000</td>\n",
       "      <td>2.003500</td>\n",
       "      <td>11.320000</td>\n",
       "      <td>29.731500</td>\n",
       "      <td>1.660000</td>\n",
       "    </tr>\n",
       "    <tr>\n",
       "      <th>Thunder</th>\n",
       "      <td>84.829268</td>\n",
       "      <td>93.493827</td>\n",
       "      <td>93.493827</td>\n",
       "      <td>75.864198</td>\n",
       "      <td>75.493827</td>\n",
       "      <td>5.304878</td>\n",
       "      <td>7.536585</td>\n",
       "      <td>29.712073</td>\n",
       "      <td>2.560976</td>\n",
       "    </tr>\n",
       "  </tbody>\n",
       "</table>\n",
       "</div>"
      ],
      "text/plain": [
       "            Temperature  Heat Index  Temperature Feels Like  Dew Point  \\\n",
       "Condition                                                                \n",
       "Cloudy        83.087897   89.488255               89.488255  74.489966   \n",
       "Fair          82.007961   86.613595               86.613595  71.213411   \n",
       "Fog / Haze    78.539326   80.966292               80.966292  74.528090   \n",
       "Rain          80.347041   85.548193               85.548193  76.720884   \n",
       "T-Storm       77.840000   80.990000               80.990000  75.980000   \n",
       "Thunder       84.829268   93.493827               93.493827  75.864198   \n",
       "\n",
       "             Humidity  Wind Force  Wind Speed   Pressure  UV Index  \n",
       "Condition                                                           \n",
       "Cloudy      77.177116    5.554838    5.766490  29.754057  2.028936  \n",
       "Fair        71.656767    5.625842    6.134415  29.795993  1.859767  \n",
       "Fog / Haze  89.134831    1.593933    2.359551  29.813596  1.337079  \n",
       "Rain        89.754016    4.364343    6.597793  29.723861  1.989970  \n",
       "T-Storm     94.400000    2.003500   11.320000  29.731500  1.660000  \n",
       "Thunder     75.493827    5.304878    7.536585  29.712073  2.560976  "
      ]
     },
     "execution_count": 789,
     "metadata": {},
     "output_type": "execute_result"
    }
   ],
   "source": [
    "mean = df_copy.groupby('Condition').mean()\n",
    "mean"
   ]
  },
  {
   "cell_type": "code",
   "execution_count": 790,
   "metadata": {},
   "outputs": [],
   "source": [
    "for col in missing_cols:\n",
    "    df_copy[col] = df_copy[col].fillna(df_copy['Condition'].map(mean[col]))"
   ]
  },
  {
   "cell_type": "code",
   "execution_count": 791,
   "metadata": {},
   "outputs": [
    {
     "data": {
      "text/plain": [
       "Time                      0\n",
       "Temperature               0\n",
       "Heat Index                0\n",
       "Temperature Feels Like    0\n",
       "Dew Point                 0\n",
       "Humidity                  0\n",
       "Wind Force                0\n",
       "Wind Speed                0\n",
       "Pressure                  0\n",
       "UV Description            0\n",
       "UV Index                  0\n",
       "Condition                 0\n",
       "dtype: int64"
      ]
     },
     "execution_count": 791,
     "metadata": {},
     "output_type": "execute_result"
    }
   ],
   "source": [
    "df_copy.isnull().sum()"
   ]
  },
  {
   "cell_type": "markdown",
   "metadata": {},
   "source": [
    "# PHẦN 2: MÔ HÌNH HÓA DỮ LIỆU"
   ]
  },
  {
   "attachments": {},
   "cell_type": "markdown",
   "metadata": {},
   "source": [
    "## A. Mô hình hóa dữ liệu"
   ]
  },
  {
   "attachments": {},
   "cell_type": "markdown",
   "metadata": {},
   "source": [
    "### Giới thiệu bài toán\n",
    "Dựa trên việc tìm hiểu về bộ dữ liệu thông qua các quá trình khám phá dữ liệu và đặt các câu hỏi có ý nghĩa cần trả lời, bài toán thích hợp cho bộ dữ liệu này là 'Dự đoán điều kiện thời tiết là nhiều mây hay không?'.\n",
    "\n",
    "Bài toán được chọn do bộ dữ liệu có các thuộc tính biểu thị chỉ số khí hậu (numerical columns) tương ứng với cột điều kiện thời tiết (categorical column). Tuy nhiên, ở cột điều kiện thời tiết, giá trị `Cloudy` chiếm nhiều hơn hẳn các giá trị còn lại, nên việc bài toán dự đoán là nhiều mây (Cloudy) hay không (các trường hợp còn lại) sẽ phù hợp và tránh trường hợp dữ liệu bị lệch (biased) gây ảnh hưởng đến hiệu suất của mô hình."
   ]
  },
  {
   "attachments": {},
   "cell_type": "markdown",
   "metadata": {},
   "source": [
    "### Lý do lựa chọn thuật toán phân lớp (Classification Algorithm)\n",
    "..."
   ]
  },
  {
   "attachments": {},
   "cell_type": "markdown",
   "metadata": {},
   "source": [
    "### Phân tích lựa chọn ra những đặc trưng có mức độ liên quan cao, có tính quan trọng cho bài toán và thực hiện các tiền xử lý cần thiết\n",
    "...\n",
    "\n"
   ]
  },
  {
   "attachments": {},
   "cell_type": "markdown",
   "metadata": {},
   "source": [
    "Thay đổi tập giá trị ở cột `Condition`"
   ]
  },
  {
   "cell_type": "code",
   "execution_count": 792,
   "metadata": {},
   "outputs": [],
   "source": [
    "condition = {'Cloudy':'Cloudy',\n",
    "             'Fair':'Not Cloudy',\n",
    "             'Rain':'Not Cloudy',\n",
    "             'Fog / Haze':'Not Cloudy',\n",
    "             'T-Storm':'Not Cloudy',\n",
    "             'Thunder':'Not Cloudy'}"
   ]
  },
  {
   "cell_type": "code",
   "execution_count": 793,
   "metadata": {},
   "outputs": [
    {
     "data": {
      "text/plain": [
       "{'Cloudy', 'Not Cloudy'}"
      ]
     },
     "execution_count": 793,
     "metadata": {},
     "output_type": "execute_result"
    }
   ],
   "source": [
    "df_copy['Condition'] = df_copy['Condition'].map(condition)\n",
    "set(df_copy['Condition'].to_list())"
   ]
  },
  {
   "attachments": {},
   "cell_type": "markdown",
   "metadata": {},
   "source": [
    "Chỉ lấy tháng"
   ]
  },
  {
   "cell_type": "code",
   "execution_count": 794,
   "metadata": {},
   "outputs": [],
   "source": [
    "df_copy['Time'] = pd.to_datetime(df_copy['Time'])\n",
    "df_copy['Time'] = df_copy['Time'].dt.month"
   ]
  },
  {
   "attachments": {},
   "cell_type": "markdown",
   "metadata": {},
   "source": [
    "Từ quá trình đặt các câu hỏi có ý nghĩa cần trả lời, ta nhận thấy `UV Description` và `UV Index` có mức độ tương quan nhất định, chỉ số UV có thể biểu thị cho mức độ UV nên việc có cột `UV Description` là không cần thiết."
   ]
  },
  {
   "cell_type": "code",
   "execution_count": 795,
   "metadata": {},
   "outputs": [],
   "source": [
    "# Separate the dependent and independent features\n",
    "df_copy = df_copy.drop('UV Description', axis=1)"
   ]
  },
  {
   "cell_type": "code",
   "execution_count": 796,
   "metadata": {},
   "outputs": [
    {
     "data": {
      "text/html": [
       "<div>\n",
       "<style scoped>\n",
       "    .dataframe tbody tr th:only-of-type {\n",
       "        vertical-align: middle;\n",
       "    }\n",
       "\n",
       "    .dataframe tbody tr th {\n",
       "        vertical-align: top;\n",
       "    }\n",
       "\n",
       "    .dataframe thead th {\n",
       "        text-align: right;\n",
       "    }\n",
       "</style>\n",
       "<table border=\"1\" class=\"dataframe\">\n",
       "  <thead>\n",
       "    <tr style=\"text-align: right;\">\n",
       "      <th></th>\n",
       "      <th>Time</th>\n",
       "      <th>Temperature</th>\n",
       "      <th>Heat Index</th>\n",
       "      <th>Temperature Feels Like</th>\n",
       "      <th>Dew Point</th>\n",
       "      <th>Humidity</th>\n",
       "      <th>Wind Force</th>\n",
       "      <th>Wind Speed</th>\n",
       "      <th>Pressure</th>\n",
       "      <th>UV Index</th>\n",
       "      <th>Condition</th>\n",
       "    </tr>\n",
       "  </thead>\n",
       "  <tbody>\n",
       "    <tr>\n",
       "      <th>0</th>\n",
       "      <td>1</td>\n",
       "      <td>75</td>\n",
       "      <td>75.0</td>\n",
       "      <td>75.0</td>\n",
       "      <td>61.0</td>\n",
       "      <td>61.0</td>\n",
       "      <td>6.0</td>\n",
       "      <td>8</td>\n",
       "      <td>29.85</td>\n",
       "      <td>0</td>\n",
       "      <td>0</td>\n",
       "    </tr>\n",
       "    <tr>\n",
       "      <th>1</th>\n",
       "      <td>1</td>\n",
       "      <td>75</td>\n",
       "      <td>75.0</td>\n",
       "      <td>75.0</td>\n",
       "      <td>61.0</td>\n",
       "      <td>61.0</td>\n",
       "      <td>6.0</td>\n",
       "      <td>7</td>\n",
       "      <td>29.85</td>\n",
       "      <td>0</td>\n",
       "      <td>0</td>\n",
       "    </tr>\n",
       "    <tr>\n",
       "      <th>2</th>\n",
       "      <td>1</td>\n",
       "      <td>75</td>\n",
       "      <td>75.0</td>\n",
       "      <td>75.0</td>\n",
       "      <td>61.0</td>\n",
       "      <td>61.0</td>\n",
       "      <td>6.0</td>\n",
       "      <td>7</td>\n",
       "      <td>29.82</td>\n",
       "      <td>0</td>\n",
       "      <td>0</td>\n",
       "    </tr>\n",
       "    <tr>\n",
       "      <th>3</th>\n",
       "      <td>1</td>\n",
       "      <td>73</td>\n",
       "      <td>73.0</td>\n",
       "      <td>73.0</td>\n",
       "      <td>61.0</td>\n",
       "      <td>65.0</td>\n",
       "      <td>4.0</td>\n",
       "      <td>6</td>\n",
       "      <td>29.82</td>\n",
       "      <td>0</td>\n",
       "      <td>0</td>\n",
       "    </tr>\n",
       "    <tr>\n",
       "      <th>4</th>\n",
       "      <td>1</td>\n",
       "      <td>73</td>\n",
       "      <td>73.0</td>\n",
       "      <td>73.0</td>\n",
       "      <td>61.0</td>\n",
       "      <td>65.0</td>\n",
       "      <td>4.0</td>\n",
       "      <td>6</td>\n",
       "      <td>29.82</td>\n",
       "      <td>0</td>\n",
       "      <td>0</td>\n",
       "    </tr>\n",
       "    <tr>\n",
       "      <th>...</th>\n",
       "      <td>...</td>\n",
       "      <td>...</td>\n",
       "      <td>...</td>\n",
       "      <td>...</td>\n",
       "      <td>...</td>\n",
       "      <td>...</td>\n",
       "      <td>...</td>\n",
       "      <td>...</td>\n",
       "      <td>...</td>\n",
       "      <td>...</td>\n",
       "      <td>...</td>\n",
       "    </tr>\n",
       "    <tr>\n",
       "      <th>17385</th>\n",
       "      <td>12</td>\n",
       "      <td>81</td>\n",
       "      <td>82.0</td>\n",
       "      <td>82.0</td>\n",
       "      <td>64.0</td>\n",
       "      <td>58.0</td>\n",
       "      <td>6.0</td>\n",
       "      <td>8</td>\n",
       "      <td>29.94</td>\n",
       "      <td>0</td>\n",
       "      <td>0</td>\n",
       "    </tr>\n",
       "    <tr>\n",
       "      <th>17386</th>\n",
       "      <td>12</td>\n",
       "      <td>79</td>\n",
       "      <td>81.0</td>\n",
       "      <td>81.0</td>\n",
       "      <td>64.0</td>\n",
       "      <td>61.0</td>\n",
       "      <td>6.0</td>\n",
       "      <td>6</td>\n",
       "      <td>29.94</td>\n",
       "      <td>0</td>\n",
       "      <td>0</td>\n",
       "    </tr>\n",
       "    <tr>\n",
       "      <th>17387</th>\n",
       "      <td>12</td>\n",
       "      <td>79</td>\n",
       "      <td>81.0</td>\n",
       "      <td>81.0</td>\n",
       "      <td>64.0</td>\n",
       "      <td>61.0</td>\n",
       "      <td>6.0</td>\n",
       "      <td>6</td>\n",
       "      <td>29.94</td>\n",
       "      <td>0</td>\n",
       "      <td>0</td>\n",
       "    </tr>\n",
       "    <tr>\n",
       "      <th>17388</th>\n",
       "      <td>12</td>\n",
       "      <td>79</td>\n",
       "      <td>81.0</td>\n",
       "      <td>81.0</td>\n",
       "      <td>64.0</td>\n",
       "      <td>61.0</td>\n",
       "      <td>6.0</td>\n",
       "      <td>8</td>\n",
       "      <td>29.94</td>\n",
       "      <td>0</td>\n",
       "      <td>0</td>\n",
       "    </tr>\n",
       "    <tr>\n",
       "      <th>17389</th>\n",
       "      <td>12</td>\n",
       "      <td>79</td>\n",
       "      <td>81.0</td>\n",
       "      <td>81.0</td>\n",
       "      <td>64.0</td>\n",
       "      <td>61.0</td>\n",
       "      <td>6.0</td>\n",
       "      <td>8</td>\n",
       "      <td>29.94</td>\n",
       "      <td>0</td>\n",
       "      <td>0</td>\n",
       "    </tr>\n",
       "  </tbody>\n",
       "</table>\n",
       "<p>17390 rows × 11 columns</p>\n",
       "</div>"
      ],
      "text/plain": [
       "       Time  Temperature  Heat Index  Temperature Feels Like  Dew Point  \\\n",
       "0         1           75        75.0                    75.0       61.0   \n",
       "1         1           75        75.0                    75.0       61.0   \n",
       "2         1           75        75.0                    75.0       61.0   \n",
       "3         1           73        73.0                    73.0       61.0   \n",
       "4         1           73        73.0                    73.0       61.0   \n",
       "...     ...          ...         ...                     ...        ...   \n",
       "17385    12           81        82.0                    82.0       64.0   \n",
       "17386    12           79        81.0                    81.0       64.0   \n",
       "17387    12           79        81.0                    81.0       64.0   \n",
       "17388    12           79        81.0                    81.0       64.0   \n",
       "17389    12           79        81.0                    81.0       64.0   \n",
       "\n",
       "       Humidity  Wind Force  Wind Speed  Pressure  UV Index  Condition  \n",
       "0          61.0         6.0           8     29.85         0          0  \n",
       "1          61.0         6.0           7     29.85         0          0  \n",
       "2          61.0         6.0           7     29.82         0          0  \n",
       "3          65.0         4.0           6     29.82         0          0  \n",
       "4          65.0         4.0           6     29.82         0          0  \n",
       "...         ...         ...         ...       ...       ...        ...  \n",
       "17385      58.0         6.0           8     29.94         0          0  \n",
       "17386      61.0         6.0           6     29.94         0          0  \n",
       "17387      61.0         6.0           6     29.94         0          0  \n",
       "17388      61.0         6.0           8     29.94         0          0  \n",
       "17389      61.0         6.0           8     29.94         0          0  \n",
       "\n",
       "[17390 rows x 11 columns]"
      ]
     },
     "execution_count": 796,
     "metadata": {},
     "output_type": "execute_result"
    }
   ],
   "source": [
    "# Import LabelEncoder\n",
    "from sklearn import preprocessing\n",
    "#creating labelEncoder\n",
    "le = preprocessing.LabelEncoder()\n",
    "# Converting string labels into numbers.\n",
    "df_copy['Condition'] = le.fit_transform(df_copy['Condition'])\n",
    "df_copy"
   ]
  },
  {
   "attachments": {},
   "cell_type": "markdown",
   "metadata": {},
   "source": [
    "# ..."
   ]
  },
  {
   "attachments": {},
   "cell_type": "markdown",
   "metadata": {},
   "source": [
    "## B. Huấn luyện và đánh giá mô hình"
   ]
  },
  {
   "attachments": {},
   "cell_type": "markdown",
   "metadata": {},
   "source": [
    "Để xác thực kỹ lưỡng các siêu tham số của mô hình, nhóm đã chọn kỹ thuật sử dụng tập kiểm định (validation set).\n",
    "\n",
    "Tập kiểm định được đưa ra khỏi tập huấn luyện (training set) và được sử dụng trong quá trình huấn luyện để xác thực độ chính xác của mô hình. Tập kiểm tra (test set) bị tách biệt hoàn toàn cho đến khi mô hình hoàn thành quá trình huấn luyện, nhưng tập kiểm định được sử dụng để xác thực trong quá trình huấn luyện.\n",
    "\n",
    "Tham khảo: https://stackabuse.com/scikit-learns-traintestsplit-training-testing-and-validation-sets/"
   ]
  },
  {
   "cell_type": "code",
   "execution_count": 797,
   "metadata": {},
   "outputs": [],
   "source": [
    "X = df_copy[['Time', 'Temperature', 'Heat Index', 'Temperature Feels Like', 'Dew Point', 'Humidity', 'Wind Force', 'Wind Speed', 'Pressure', 'UV Index']]\n",
    "y = df_copy['Condition']"
   ]
  },
  {
   "cell_type": "code",
   "execution_count": 798,
   "metadata": {},
   "outputs": [
    {
     "name": "stdout",
     "output_type": "stream",
     "text": [
      "Training set shape:  (12520, 10) (12520,)\n",
      "Validation set shape:  (1392, 10) (1392,)\n",
      "Testing set shape:  (3478, 10) (3478,)\n"
     ]
    }
   ],
   "source": [
    "# Tách dataset thành tập huấn luyện (training set), tập kiểm định (validation set) và tập kiểm tra (test set)\n",
    "from sklearn.model_selection import train_test_split\n",
    "X_train, X_test, y_train, y_test = train_test_split(X, y, train_size=0.8)\n",
    "X_train, X_valid, y_train, y_valid = train_test_split(X_train, y_train, train_size=0.9)\n",
    "print('Training set shape: ', X_train.shape, y_train.shape)\n",
    "print('Validation set shape: ', X_valid.shape, y_valid.shape)\n",
    "print('Testing set shape: ', X_test.shape, y_test.shape)"
   ]
  },
  {
   "attachments": {},
   "cell_type": "markdown",
   "metadata": {},
   "source": [
    "### KNN Classification\n",
    "KNN (K-nearest neighbor) là một trong những thuật toán supervised-learning đơn giản nhất (mà hiệu quả trong một vài trường hợp) trong Machine Learning. Khi training, thuật toán này không học một điều gì từ dữ liệu training (đây cũng là lý do thuật toán này được xếp vào loại lazy learning), mọi tính toán được thực hiện khi nó cần dự đoán kết quả của dữ liệu mới. K-nearest neighbor có thể áp dụng được vào cả hai loại của bài toán Supervised learning là Classification và Regression. KNN còn được gọi là một thuật toán Instance-based hay Memory-based learning.\n",
    "\n",
    "Tham khảo: https://machinelearningcoban.com/2017/01/08/knn/#k-nearest-neighbor"
   ]
  },
  {
   "cell_type": "code",
   "execution_count": 799,
   "metadata": {},
   "outputs": [],
   "source": [
    "from sklearn.neighbors import KNeighborsClassifier\n",
    "knn = KNeighborsClassifier()"
   ]
  },
  {
   "cell_type": "code",
   "execution_count": 800,
   "metadata": {},
   "outputs": [],
   "source": [
    "from sklearn import metrics"
   ]
  },
  {
   "attachments": {},
   "cell_type": "markdown",
   "metadata": {},
   "source": [
    "Kiểm tra độ chính xác của mô hình khi huấn luyện với các giá trị khác nhau của 'k' và sau đó chọn giá trị tốt nhất từ chúng."
   ]
  },
  {
   "cell_type": "code",
   "execution_count": 801,
   "metadata": {},
   "outputs": [
    {
     "data": {
      "text/plain": [
       "array([0.76795977, 0.78663793, 0.78735632, 0.78520115, 0.78951149,\n",
       "       0.78376437, 0.78591954, 0.79022989, 0.78735632, 0.78232759,\n",
       "       0.78591954, 0.78591954, 0.79094828, 0.78735632, 0.78663793,\n",
       "       0.78591954, 0.78807471, 0.7887931 , 0.79166667, 0.7887931 ])"
      ]
     },
     "execution_count": 801,
     "metadata": {},
     "output_type": "execute_result"
    }
   ],
   "source": [
    "# Tính độ chính xác của mô hình với các giá trị 'k' khác nhau\n",
    "mean_acc = np.zeros(20)\n",
    "for i in range(1, 21):\n",
    "    # Huấn luyện mô hình và dự đoán\n",
    "    knn = KNeighborsClassifier(n_neighbors = i).fit(X_train, y_train)\n",
    "    yhat = knn.predict(X_valid)\n",
    "    mean_acc[i-1] = metrics.accuracy_score(y_valid, yhat)\n",
    "\n",
    "mean_acc"
   ]
  },
  {
   "cell_type": "code",
   "execution_count": 802,
   "metadata": {},
   "outputs": [
    {
     "data": {
      "image/png": "[encoded data removed]",
      "text/plain": [
       "<Figure size 1000x600 with 1 Axes>"
      ]
     },
     "metadata": {},
     "output_type": "display_data"
    }
   ],
   "source": [
    "plt.figure(figsize = (10, 6))\n",
    "plt.plot(range(1, 21), mean_acc)\n",
    "plt.xticks(np.arange(1, 21, step=1.0))\n",
    "plt.xlabel('Number of Neighbors')\n",
    "plt.ylabel('Accuracy')\n",
    "plt.show()"
   ]
  },
  {
   "attachments": {},
   "cell_type": "markdown",
   "metadata": {},
   "source": [
    "Độ chính xác cao nhất với k = 10"
   ]
  },
  {
   "attachments": {},
   "cell_type": "markdown",
   "metadata": {},
   "source": [
    "Báo cáo quá trình tinh chỉnh (fine-tuning process)\n",
    "\n",
    "Nhóm sử dụng kỹ thuật Exhaustive Grid Search để tối ưu hóa siêu tham số. Một Exhaustive Grid Search sẽ nhận bao nhiêu siêu tham số tùy thích và thử mọi cách kết hợp duy nhất có thể có của các siêu tham số cũng như nhiều xác thực chéo mà ta muốn nó thực hiện. Exhaustive Grid Search là một cách hay để xác định các giá trị siêu tham số tốt nhất để sử dụng, nhưng nó có thể nhanh chóng trở nên tốn thời gian với mọi giá trị tham số bổ sung và xác thực chéo mà bạn thêm vào."
   ]
  },
  {
   "cell_type": "code",
   "execution_count": 803,
   "metadata": {},
   "outputs": [],
   "source": [
    "from sklearn.model_selection import GridSearchCV"
   ]
  },
  {
   "attachments": {},
   "cell_type": "markdown",
   "metadata": {},
   "source": [
    "We will use three hyperparamters- n-neighbors, weights and metric.\n",
    "\n",
    "n_neighbors: Decide the best k based on the values we have computed earlier.\n",
    "\n",
    "weights: Check whether adding weights to the data points is beneficial to the model or not. 'uniform' assigns no weight, while 'distance' weighs points by the inverse of their distances meaning nearer points will have more weight than the farther points.\n",
    "\n",
    "metric: The distance metric to be used will calculating the similarity."
   ]
  },
  {
   "cell_type": "code",
   "execution_count": 804,
   "metadata": {},
   "outputs": [],
   "source": [
    "grid_params = {'n_neighbors':[10],\n",
    "               'weights':['uniform','distance'],\n",
    "               'metric':['minkowski','euclidean','manhattan']}"
   ]
  },
  {
   "cell_type": "code",
   "execution_count": 805,
   "metadata": {},
   "outputs": [],
   "source": [
    "gs = GridSearchCV(KNeighborsClassifier(), grid_params, verbose = 1, cv=3, n_jobs = -1)"
   ]
  },
  {
   "cell_type": "code",
   "execution_count": 806,
   "metadata": {},
   "outputs": [
    {
     "name": "stdout",
     "output_type": "stream",
     "text": [
      "Fitting 3 folds for each of 6 candidates, totalling 18 fits\n"
     ]
    }
   ],
   "source": [
    "# Khớp mô hình với tập huấn luyện\n",
    "g_res = gs.fit(X_train, y_train)"
   ]
  },
  {
   "cell_type": "code",
   "execution_count": 807,
   "metadata": {},
   "outputs": [
    {
     "data": {
      "text/plain": [
       "0.7807512743543087"
      ]
     },
     "execution_count": 807,
     "metadata": {},
     "output_type": "execute_result"
    }
   ],
   "source": [
    "# Tìm best score\n",
    "g_res.best_score_"
   ]
  },
  {
   "cell_type": "code",
   "execution_count": 808,
   "metadata": {},
   "outputs": [
    {
     "data": {
      "text/plain": [
       "{'metric': 'manhattan', 'n_neighbors': 10, 'weights': 'uniform'}"
      ]
     },
     "execution_count": 808,
     "metadata": {},
     "output_type": "execute_result"
    }
   ],
   "source": [
    "# Lấy siêu tham số với best score\n",
    "g_res.best_params_"
   ]
  },
  {
   "cell_type": "code",
   "execution_count": 809,
   "metadata": {},
   "outputs": [
    {
     "data": {
      "text/plain": [
       "KNeighborsClassifier(algorithm='brute', metric='manhattan', n_neighbors=10,\n",
       "                     weights='distance')"
      ]
     },
     "execution_count": 809,
     "metadata": {},
     "output_type": "execute_result"
    }
   ],
   "source": [
    "# Sử dụng siêu tham số tốt nhất\n",
    "knn = KNeighborsClassifier(n_neighbors = 10, weights = 'distance', algorithm = 'brute', metric = 'manhattan')\n",
    "knn.fit(X_train, y_train)"
   ]
  },
  {
   "cell_type": "code",
   "execution_count": 810,
   "metadata": {},
   "outputs": [],
   "source": [
    "# Dự đoán\n",
    "y_hat = knn.predict(X_train)\n",
    "y_knn = knn.predict(X_test)"
   ]
  },
  {
   "attachments": {},
   "cell_type": "markdown",
   "metadata": {},
   "source": [
    "Đánh giá mô hình"
   ]
  },
  {
   "cell_type": "code",
   "execution_count": 811,
   "metadata": {},
   "outputs": [
    {
     "name": "stdout",
     "output_type": "stream",
     "text": [
      "Training set accuracy:  0.9702875399361023\n",
      "Test set accuracy:  0.7949971247843588\n"
     ]
    }
   ],
   "source": [
    "print('Training set accuracy: ', metrics.accuracy_score(y_train, y_hat))\n",
    "print('Test set accuracy: ',metrics.accuracy_score(y_test, y_knn))"
   ]
  },
  {
   "cell_type": "code",
   "execution_count": 812,
   "metadata": {},
   "outputs": [
    {
     "name": "stdout",
     "output_type": "stream",
     "text": [
      "[[2349  239]\n",
      " [ 474  416]]\n"
     ]
    }
   ],
   "source": [
    "from sklearn.metrics import confusion_matrix\n",
    "print(confusion_matrix(y_test, y_knn))"
   ]
  },
  {
   "cell_type": "code",
   "execution_count": 813,
   "metadata": {},
   "outputs": [
    {
     "name": "stdout",
     "output_type": "stream",
     "text": [
      "              precision    recall  f1-score   support\n",
      "\n",
      "           0       0.83      0.91      0.87      2588\n",
      "           1       0.64      0.47      0.54       890\n",
      "\n",
      "    accuracy                           0.79      3478\n",
      "   macro avg       0.73      0.69      0.70      3478\n",
      "weighted avg       0.78      0.79      0.78      3478\n",
      "\n"
     ]
    }
   ],
   "source": [
    "from sklearn.metrics import classification_report\n",
    "print(classification_report(y_test, y_knn))"
   ]
  },
  {
   "cell_type": "code",
   "execution_count": 814,
   "metadata": {},
   "outputs": [],
   "source": [
    "from sklearn.model_selection import cross_val_score\n",
    "scores = cross_val_score(knn, X, y, cv = 5)"
   ]
  },
  {
   "cell_type": "code",
   "execution_count": 815,
   "metadata": {},
   "outputs": [
    {
     "name": "stdout",
     "output_type": "stream",
     "text": [
      "Model accuracy:  0.538125359401955\n"
     ]
    }
   ],
   "source": [
    "print('Model accuracy: ', np.mean(scores))"
   ]
  },
  {
   "attachments": {},
   "cell_type": "markdown",
   "metadata": {},
   "source": [
    "Naive Bayes Classification"
   ]
  }
 ],
 "metadata": {
  "kernelspec": {
   "display_name": "Python 3.9.12 ('base')",
   "language": "python",
   "name": "python3"
  },
  "language_info": {
   "codemirror_mode": {
    "name": "ipython",
    "version": 3
   },
   "file_extension": ".py",
   "mimetype": "text/x-python",
   "name": "python",
   "nbconvert_exporter": "python",
   "pygments_lexer": "ipython3",
   "version": "3.9.12"
  },
  "orig_nbformat": 4,
  "vscode": {
   "interpreter": {
    "hash": "20a9e06a1eee47c4abbed4ec8225ad91d78d9800d202b71b6b0a6e47016c6abd"
   }
  }
 },
 "nbformat": 4,
 "nbformat_minor": 2
}
