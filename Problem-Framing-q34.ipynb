{
 "cells": [
  {
   "cell_type": "code",
   "execution_count": 58,
   "metadata": {},
   "outputs": [],
   "source": [
    "import requests\n",
    "import json\n",
    "from datetime import datetime,timedelta\n",
    "import pandas as pd\n",
    "import numpy as np\n",
    "import datetime as dt\n",
    "import seaborn as sns\n",
    "import matplotlib.pyplot as plt\n"
   ]
  },
  {
   "cell_type": "markdown",
   "metadata": {},
   "source": [
    "# B. Khám phá dữ liệu"
   ]
  },
  {
   "cell_type": "markdown",
   "metadata": {},
   "source": [
    "## 1. Đọc dữ liệu, tính số dòng và số cột"
   ]
  },
  {
   "cell_type": "markdown",
   "metadata": {},
   "source": [
    "Đọc dữ liệu từ file `weather-2021.csv` và in ra 5 dòng đầu tiên"
   ]
  },
  {
   "cell_type": "code",
   "execution_count": 59,
   "metadata": {},
   "outputs": [
    {
     "data": {
      "text/html": [
       "<div>\n",
       "<style scoped>\n",
       "    .dataframe tbody tr th:only-of-type {\n",
       "        vertical-align: middle;\n",
       "    }\n",
       "\n",
       "    .dataframe tbody tr th {\n",
       "        vertical-align: top;\n",
       "    }\n",
       "\n",
       "    .dataframe thead th {\n",
       "        text-align: right;\n",
       "    }\n",
       "</style>\n",
       "<table border=\"1\" class=\"dataframe\">\n",
       "  <thead>\n",
       "    <tr style=\"text-align: right;\">\n",
       "      <th></th>\n",
       "      <th>key</th>\n",
       "      <th>class</th>\n",
       "      <th>expire_time_gmt</th>\n",
       "      <th>obs_id</th>\n",
       "      <th>obs_name</th>\n",
       "      <th>valid_time_gmt</th>\n",
       "      <th>day_ind</th>\n",
       "      <th>temp</th>\n",
       "      <th>wx_icon</th>\n",
       "      <th>icon_extd</th>\n",
       "      <th>wx_phrase</th>\n",
       "      <th>pressure_tend</th>\n",
       "      <th>pressure_desc</th>\n",
       "      <th>dewPt</th>\n",
       "      <th>heat_index</th>\n",
       "      <th>rh</th>\n",
       "      <th>pressure</th>\n",
       "      <th>vis</th>\n",
       "      <th>wc</th>\n",
       "      <th>wdir</th>\n",
       "      <th>wdir_cardinal</th>\n",
       "      <th>gust</th>\n",
       "      <th>wspd</th>\n",
       "      <th>max_temp</th>\n",
       "      <th>min_temp</th>\n",
       "      <th>precip_total</th>\n",
       "      <th>precip_hrly</th>\n",
       "      <th>snow_hrly</th>\n",
       "      <th>uv_desc</th>\n",
       "      <th>feels_like</th>\n",
       "      <th>uv_index</th>\n",
       "      <th>qualifier</th>\n",
       "      <th>qualifier_svrty</th>\n",
       "      <th>blunt_phrase</th>\n",
       "      <th>terse_phrase</th>\n",
       "      <th>clds</th>\n",
       "      <th>water_temp</th>\n",
       "      <th>primary_wave_period</th>\n",
       "      <th>primary_wave_height</th>\n",
       "      <th>primary_swell_period</th>\n",
       "      <th>primary_swell_height</th>\n",
       "      <th>primary_swell_direction</th>\n",
       "      <th>secondary_swell_period</th>\n",
       "      <th>secondary_swell_height</th>\n",
       "      <th>secondary_swell_direction</th>\n",
       "    </tr>\n",
       "  </thead>\n",
       "  <tbody>\n",
       "    <tr>\n",
       "      <th>0</th>\n",
       "      <td>VVTS</td>\n",
       "      <td>observation</td>\n",
       "      <td>1609441200</td>\n",
       "      <td>VVTS</td>\n",
       "      <td>Ho Chi Minh City</td>\n",
       "      <td>1609434000</td>\n",
       "      <td>N</td>\n",
       "      <td>75</td>\n",
       "      <td>29</td>\n",
       "      <td>2900</td>\n",
       "      <td>Partly Cloudy</td>\n",
       "      <td>NaN</td>\n",
       "      <td>NaN</td>\n",
       "      <td>61.0</td>\n",
       "      <td>75.0</td>\n",
       "      <td>61.0</td>\n",
       "      <td>29.85</td>\n",
       "      <td>6.0</td>\n",
       "      <td>75</td>\n",
       "      <td>30.0</td>\n",
       "      <td>NNE</td>\n",
       "      <td>NaN</td>\n",
       "      <td>8</td>\n",
       "      <td>NaN</td>\n",
       "      <td>NaN</td>\n",
       "      <td>NaN</td>\n",
       "      <td>NaN</td>\n",
       "      <td>NaN</td>\n",
       "      <td>Low</td>\n",
       "      <td>75.0</td>\n",
       "      <td>0</td>\n",
       "      <td>NaN</td>\n",
       "      <td>NaN</td>\n",
       "      <td>NaN</td>\n",
       "      <td>NaN</td>\n",
       "      <td>SCT</td>\n",
       "      <td>NaN</td>\n",
       "      <td>NaN</td>\n",
       "      <td>NaN</td>\n",
       "      <td>NaN</td>\n",
       "      <td>NaN</td>\n",
       "      <td>NaN</td>\n",
       "      <td>NaN</td>\n",
       "      <td>NaN</td>\n",
       "      <td>NaN</td>\n",
       "    </tr>\n",
       "    <tr>\n",
       "      <th>1</th>\n",
       "      <td>VVTS</td>\n",
       "      <td>observation</td>\n",
       "      <td>1609443000</td>\n",
       "      <td>VVTS</td>\n",
       "      <td>Ho Chi Minh City</td>\n",
       "      <td>1609435800</td>\n",
       "      <td>N</td>\n",
       "      <td>75</td>\n",
       "      <td>29</td>\n",
       "      <td>2900</td>\n",
       "      <td>Partly Cloudy</td>\n",
       "      <td>NaN</td>\n",
       "      <td>NaN</td>\n",
       "      <td>61.0</td>\n",
       "      <td>75.0</td>\n",
       "      <td>61.0</td>\n",
       "      <td>29.85</td>\n",
       "      <td>6.0</td>\n",
       "      <td>75</td>\n",
       "      <td>30.0</td>\n",
       "      <td>NNE</td>\n",
       "      <td>NaN</td>\n",
       "      <td>7</td>\n",
       "      <td>NaN</td>\n",
       "      <td>NaN</td>\n",
       "      <td>NaN</td>\n",
       "      <td>NaN</td>\n",
       "      <td>NaN</td>\n",
       "      <td>Low</td>\n",
       "      <td>75.0</td>\n",
       "      <td>0</td>\n",
       "      <td>NaN</td>\n",
       "      <td>NaN</td>\n",
       "      <td>NaN</td>\n",
       "      <td>NaN</td>\n",
       "      <td>SCT</td>\n",
       "      <td>NaN</td>\n",
       "      <td>NaN</td>\n",
       "      <td>NaN</td>\n",
       "      <td>NaN</td>\n",
       "      <td>NaN</td>\n",
       "      <td>NaN</td>\n",
       "      <td>NaN</td>\n",
       "      <td>NaN</td>\n",
       "      <td>NaN</td>\n",
       "    </tr>\n",
       "    <tr>\n",
       "      <th>2</th>\n",
       "      <td>VVTS</td>\n",
       "      <td>observation</td>\n",
       "      <td>1609444800</td>\n",
       "      <td>VVTS</td>\n",
       "      <td>Ho Chi Minh City</td>\n",
       "      <td>1609437600</td>\n",
       "      <td>N</td>\n",
       "      <td>75</td>\n",
       "      <td>29</td>\n",
       "      <td>2900</td>\n",
       "      <td>Partly Cloudy</td>\n",
       "      <td>NaN</td>\n",
       "      <td>NaN</td>\n",
       "      <td>61.0</td>\n",
       "      <td>75.0</td>\n",
       "      <td>61.0</td>\n",
       "      <td>29.82</td>\n",
       "      <td>6.0</td>\n",
       "      <td>75</td>\n",
       "      <td>40.0</td>\n",
       "      <td>NE</td>\n",
       "      <td>NaN</td>\n",
       "      <td>7</td>\n",
       "      <td>NaN</td>\n",
       "      <td>NaN</td>\n",
       "      <td>NaN</td>\n",
       "      <td>NaN</td>\n",
       "      <td>NaN</td>\n",
       "      <td>Low</td>\n",
       "      <td>75.0</td>\n",
       "      <td>0</td>\n",
       "      <td>NaN</td>\n",
       "      <td>NaN</td>\n",
       "      <td>NaN</td>\n",
       "      <td>NaN</td>\n",
       "      <td>SCT</td>\n",
       "      <td>NaN</td>\n",
       "      <td>NaN</td>\n",
       "      <td>NaN</td>\n",
       "      <td>NaN</td>\n",
       "      <td>NaN</td>\n",
       "      <td>NaN</td>\n",
       "      <td>NaN</td>\n",
       "      <td>NaN</td>\n",
       "      <td>NaN</td>\n",
       "    </tr>\n",
       "    <tr>\n",
       "      <th>3</th>\n",
       "      <td>VVTS</td>\n",
       "      <td>observation</td>\n",
       "      <td>1609446600</td>\n",
       "      <td>VVTS</td>\n",
       "      <td>Ho Chi Minh City</td>\n",
       "      <td>1609439400</td>\n",
       "      <td>N</td>\n",
       "      <td>73</td>\n",
       "      <td>29</td>\n",
       "      <td>2900</td>\n",
       "      <td>Partly Cloudy</td>\n",
       "      <td>NaN</td>\n",
       "      <td>NaN</td>\n",
       "      <td>61.0</td>\n",
       "      <td>73.0</td>\n",
       "      <td>65.0</td>\n",
       "      <td>29.82</td>\n",
       "      <td>4.0</td>\n",
       "      <td>73</td>\n",
       "      <td>40.0</td>\n",
       "      <td>NE</td>\n",
       "      <td>NaN</td>\n",
       "      <td>6</td>\n",
       "      <td>NaN</td>\n",
       "      <td>NaN</td>\n",
       "      <td>NaN</td>\n",
       "      <td>NaN</td>\n",
       "      <td>NaN</td>\n",
       "      <td>Low</td>\n",
       "      <td>73.0</td>\n",
       "      <td>0</td>\n",
       "      <td>NaN</td>\n",
       "      <td>NaN</td>\n",
       "      <td>NaN</td>\n",
       "      <td>NaN</td>\n",
       "      <td>SCT</td>\n",
       "      <td>NaN</td>\n",
       "      <td>NaN</td>\n",
       "      <td>NaN</td>\n",
       "      <td>NaN</td>\n",
       "      <td>NaN</td>\n",
       "      <td>NaN</td>\n",
       "      <td>NaN</td>\n",
       "      <td>NaN</td>\n",
       "      <td>NaN</td>\n",
       "    </tr>\n",
       "    <tr>\n",
       "      <th>4</th>\n",
       "      <td>VVTS</td>\n",
       "      <td>observation</td>\n",
       "      <td>1609448400</td>\n",
       "      <td>VVTS</td>\n",
       "      <td>Ho Chi Minh City</td>\n",
       "      <td>1609441200</td>\n",
       "      <td>N</td>\n",
       "      <td>73</td>\n",
       "      <td>29</td>\n",
       "      <td>2900</td>\n",
       "      <td>Partly Cloudy</td>\n",
       "      <td>NaN</td>\n",
       "      <td>NaN</td>\n",
       "      <td>61.0</td>\n",
       "      <td>73.0</td>\n",
       "      <td>65.0</td>\n",
       "      <td>29.82</td>\n",
       "      <td>4.0</td>\n",
       "      <td>73</td>\n",
       "      <td>20.0</td>\n",
       "      <td>NNE</td>\n",
       "      <td>NaN</td>\n",
       "      <td>6</td>\n",
       "      <td>NaN</td>\n",
       "      <td>NaN</td>\n",
       "      <td>NaN</td>\n",
       "      <td>NaN</td>\n",
       "      <td>NaN</td>\n",
       "      <td>Low</td>\n",
       "      <td>73.0</td>\n",
       "      <td>0</td>\n",
       "      <td>NaN</td>\n",
       "      <td>NaN</td>\n",
       "      <td>NaN</td>\n",
       "      <td>NaN</td>\n",
       "      <td>SCT</td>\n",
       "      <td>NaN</td>\n",
       "      <td>NaN</td>\n",
       "      <td>NaN</td>\n",
       "      <td>NaN</td>\n",
       "      <td>NaN</td>\n",
       "      <td>NaN</td>\n",
       "      <td>NaN</td>\n",
       "      <td>NaN</td>\n",
       "      <td>NaN</td>\n",
       "    </tr>\n",
       "  </tbody>\n",
       "</table>\n",
       "</div>"
      ],
      "text/plain": [
       "    key        class  expire_time_gmt obs_id          obs_name  \\\n",
       "0  VVTS  observation       1609441200   VVTS  Ho Chi Minh City   \n",
       "1  VVTS  observation       1609443000   VVTS  Ho Chi Minh City   \n",
       "2  VVTS  observation       1609444800   VVTS  Ho Chi Minh City   \n",
       "3  VVTS  observation       1609446600   VVTS  Ho Chi Minh City   \n",
       "4  VVTS  observation       1609448400   VVTS  Ho Chi Minh City   \n",
       "\n",
       "   valid_time_gmt day_ind  temp  wx_icon  icon_extd      wx_phrase  \\\n",
       "0      1609434000       N    75       29       2900  Partly Cloudy   \n",
       "1      1609435800       N    75       29       2900  Partly Cloudy   \n",
       "2      1609437600       N    75       29       2900  Partly Cloudy   \n",
       "3      1609439400       N    73       29       2900  Partly Cloudy   \n",
       "4      1609441200       N    73       29       2900  Partly Cloudy   \n",
       "\n",
       "   pressure_tend  pressure_desc  dewPt  heat_index    rh  pressure  vis  wc  \\\n",
       "0            NaN            NaN   61.0        75.0  61.0     29.85  6.0  75   \n",
       "1            NaN            NaN   61.0        75.0  61.0     29.85  6.0  75   \n",
       "2            NaN            NaN   61.0        75.0  61.0     29.82  6.0  75   \n",
       "3            NaN            NaN   61.0        73.0  65.0     29.82  4.0  73   \n",
       "4            NaN            NaN   61.0        73.0  65.0     29.82  4.0  73   \n",
       "\n",
       "   wdir wdir_cardinal  gust  wspd  max_temp  min_temp  precip_total  \\\n",
       "0  30.0           NNE   NaN     8       NaN       NaN           NaN   \n",
       "1  30.0           NNE   NaN     7       NaN       NaN           NaN   \n",
       "2  40.0            NE   NaN     7       NaN       NaN           NaN   \n",
       "3  40.0            NE   NaN     6       NaN       NaN           NaN   \n",
       "4  20.0           NNE   NaN     6       NaN       NaN           NaN   \n",
       "\n",
       "   precip_hrly  snow_hrly uv_desc  feels_like  uv_index  qualifier  \\\n",
       "0          NaN        NaN     Low        75.0         0        NaN   \n",
       "1          NaN        NaN     Low        75.0         0        NaN   \n",
       "2          NaN        NaN     Low        75.0         0        NaN   \n",
       "3          NaN        NaN     Low        73.0         0        NaN   \n",
       "4          NaN        NaN     Low        73.0         0        NaN   \n",
       "\n",
       "   qualifier_svrty  blunt_phrase  terse_phrase clds  water_temp  \\\n",
       "0              NaN           NaN           NaN  SCT         NaN   \n",
       "1              NaN           NaN           NaN  SCT         NaN   \n",
       "2              NaN           NaN           NaN  SCT         NaN   \n",
       "3              NaN           NaN           NaN  SCT         NaN   \n",
       "4              NaN           NaN           NaN  SCT         NaN   \n",
       "\n",
       "   primary_wave_period  primary_wave_height  primary_swell_period  \\\n",
       "0                  NaN                  NaN                   NaN   \n",
       "1                  NaN                  NaN                   NaN   \n",
       "2                  NaN                  NaN                   NaN   \n",
       "3                  NaN                  NaN                   NaN   \n",
       "4                  NaN                  NaN                   NaN   \n",
       "\n",
       "   primary_swell_height  primary_swell_direction  secondary_swell_period  \\\n",
       "0                   NaN                      NaN                     NaN   \n",
       "1                   NaN                      NaN                     NaN   \n",
       "2                   NaN                      NaN                     NaN   \n",
       "3                   NaN                      NaN                     NaN   \n",
       "4                   NaN                      NaN                     NaN   \n",
       "\n",
       "   secondary_swell_height  secondary_swell_direction  \n",
       "0                     NaN                        NaN  \n",
       "1                     NaN                        NaN  \n",
       "2                     NaN                        NaN  \n",
       "3                     NaN                        NaN  \n",
       "4                     NaN                        NaN  "
      ]
     },
     "execution_count": 59,
     "metadata": {},
     "output_type": "execute_result"
    }
   ],
   "source": [
    "df = pd.read_csv('weather-2021.csv')\n",
    "df.head()"
   ]
  },
  {
   "cell_type": "markdown",
   "metadata": {},
   "source": [
    "Tính số dòng, số cột và lưu vào 2 biến `num_rows` và `num_cols`"
   ]
  },
  {
   "cell_type": "code",
   "execution_count": 60,
   "metadata": {},
   "outputs": [
    {
     "name": "stdout",
     "output_type": "stream",
     "text": [
      "Number of rows: 17390\n",
      "Number of columns: 45\n"
     ]
    }
   ],
   "source": [
    "num_rows, num_cols = df.shape\n",
    "print(f'Number of rows: {num_rows}\\nNumber of columns: {num_cols}')"
   ]
  },
  {
   "cell_type": "markdown",
   "metadata": {},
   "source": [
    "## 2. Mỗi dòng có ý nghĩa gì? Có vấn đề các dòng có ý nghĩa khác nhau không?"
   ]
  },
  {
   "cell_type": "markdown",
   "metadata": {},
   "source": [
    "Mỗi dòng trong tập dữ liệu là thông tin và các chỉ số về thời tiết của quận Tân Bình (TP.HCM) tại thời điểm nhất định (cập nhật 30 phút/lần). Có vẻ không có vấn đề các dòng có ý nghĩa khác nhau, tức không có dòng nào bị 'lạc loài'"
   ]
  },
  {
   "cell_type": "markdown",
   "metadata": {},
   "source": [
    "## 3. Dữ liệu có các dòng bị lặp không?"
   ]
  },
  {
   "cell_type": "markdown",
   "metadata": {},
   "source": [
    "Ta kiểm tra xem có dòng nào bị lặp không bằng cách sử dụng các phương thức `duplicated()` và `any()` và lưu kết quả vào biến `have_duplicated_rows`. Biến này sẽ có giá trị True nếu dữ liệu có các dòng bị lặp và có giá trị False nếu không có dòng bị lặp"
   ]
  },
  {
   "cell_type": "code",
   "execution_count": 61,
   "metadata": {},
   "outputs": [
    {
     "data": {
      "text/plain": [
       "False"
      ]
     },
     "execution_count": 61,
     "metadata": {},
     "output_type": "execute_result"
    }
   ],
   "source": [
    "have_duplicate_rows = df.duplicated().any()\n",
    "have_duplicate_rows"
   ]
  },
  {
   "cell_type": "markdown",
   "metadata": {},
   "source": [
    "Như vậy, dữ liệu không có dòng nào bị lặp lặp "
   ]
  },
  {
   "cell_type": "markdown",
   "metadata": {},
   "source": [
    "## 4. Tỉ lệ giá trị thiếu của từng cột"
   ]
  },
  {
   "cell_type": "markdown",
   "metadata": {},
   "source": [
    "Ta tính tỉ lệ giá trị thiếu của từng cột. Đầu tiên ta dùng `isnull()` để biết được các giá trị thiếu, sau đó dùng `sum()` để tính tổng số giá trị thiếu theo từng cột. Cuối cùng ta chia cho tổng số dòng để tính tỉ lệ giá trị thiếu của mỗi cột và lưu kết quả vào biến `missing_ratio`"
   ]
  },
  {
   "cell_type": "code",
   "execution_count": 62,
   "metadata": {},
   "outputs": [
    {
     "data": {
      "text/plain": [
       "key                          0.000000\n",
       "class                        0.000000\n",
       "expire_time_gmt              0.000000\n",
       "obs_id                       0.000000\n",
       "obs_name                     0.000000\n",
       "valid_time_gmt               0.000000\n",
       "day_ind                      0.000000\n",
       "temp                         0.000000\n",
       "wx_icon                      0.000000\n",
       "icon_extd                    0.000000\n",
       "wx_phrase                    0.000000\n",
       "pressure_tend                1.000000\n",
       "pressure_desc                1.000000\n",
       "dewPt                        0.000115\n",
       "heat_index                   0.000115\n",
       "rh                           0.000115\n",
       "pressure                     0.000575\n",
       "vis                          0.000000\n",
       "wc                           0.000000\n",
       "wdir                         0.255952\n",
       "wdir_cardinal                0.000000\n",
       "gust                         0.994767\n",
       "wspd                         0.000000\n",
       "max_temp                     1.000000\n",
       "min_temp                     1.000000\n",
       "precip_total                 1.000000\n",
       "precip_hrly                  1.000000\n",
       "snow_hrly                    1.000000\n",
       "uv_desc                      0.000000\n",
       "feels_like                   0.000115\n",
       "uv_index                     0.000000\n",
       "qualifier                    1.000000\n",
       "qualifier_svrty              1.000000\n",
       "blunt_phrase                 1.000000\n",
       "terse_phrase                 1.000000\n",
       "clds                         0.000000\n",
       "water_temp                   1.000000\n",
       "primary_wave_period          1.000000\n",
       "primary_wave_height          1.000000\n",
       "primary_swell_period         1.000000\n",
       "primary_swell_height         1.000000\n",
       "primary_swell_direction      1.000000\n",
       "secondary_swell_period       1.000000\n",
       "secondary_swell_height       1.000000\n",
       "secondary_swell_direction    1.000000\n",
       "dtype: float64"
      ]
     },
     "execution_count": 62,
     "metadata": {},
     "output_type": "execute_result"
    }
   ],
   "source": [
    "missing_ratio = df.isnull().sum()\n",
    "missing_ratio = missing_ratio / num_rows\n",
    "missing_ratio"
   ]
  },
  {
   "cell_type": "markdown",
   "metadata": {},
   "source": [
    "Có thể thấy, có những cột mà tỉ lệ giá trị thiếu lên đến hơn 99% hoặc thậm chí là 100%"
   ]
  },
  {
   "cell_type": "markdown",
   "metadata": {},
   "source": [
    "### Loại bỏ một số cột không cần thiết"
   ]
  },
  {
   "cell_type": "markdown",
   "metadata": {},
   "source": [
    "Ta có thể thấy có rất nhiều cột không có giá trị (hay tỉ lệ dữ liệu bị thiếu là 100%). Để làm gọn dữ liệu và để dễ quản lý dataframe hơn, ta sẽ bỏ đi những cột không có ý nghĩa đó"
   ]
  },
  {
   "cell_type": "code",
   "execution_count": 63,
   "metadata": {},
   "outputs": [
    {
     "data": {
      "text/plain": [
       "Index(['key', 'class', 'expire_time_gmt', 'obs_id', 'obs_name',\n",
       "       'valid_time_gmt', 'day_ind', 'temp', 'wx_icon', 'icon_extd',\n",
       "       'wx_phrase', 'dewPt', 'heat_index', 'rh', 'pressure', 'vis', 'wc',\n",
       "       'wdir', 'wdir_cardinal', 'wspd', 'uv_desc', 'feels_like', 'uv_index',\n",
       "       'clds'],\n",
       "      dtype='object')"
      ]
     },
     "execution_count": 63,
     "metadata": {},
     "output_type": "execute_result"
    }
   ],
   "source": [
    "del_cols = []\n",
    "for i in range(len(missing_ratio)):\n",
    "    if missing_ratio[i] > 0.9:\n",
    "        del_cols.append(missing_ratio.index[i])\n",
    "df = df.drop(del_cols,axis=1)\n",
    "df.columns"
   ]
  },
  {
   "cell_type": "markdown",
   "metadata": {},
   "source": [
    "## 5. Mỗi cột có ý nghĩa gì?"
   ]
  },
  {
   "cell_type": "markdown",
   "metadata": {},
   "source": [
    "Dựa trên thông tin tập dữ liệu đã mô tả ở phần Thu thập dữ liệu, ta chọn ra những cột liên quan và cần thiết:\n",
    "- Thời điểm biểu diễn các chỉ số thời tiết: 'valid_time_gmt'\n",
    "- Thông tin về chỉ số thời tiết: 'temp', 'wx_phrase', 'dewPt', 'heat_index', 'rh', 'pressure', 'vis', 'wspd', 'uv_desc', 'feels_like', 'uv_index'\n",
    "\n",
    "Như vậy các cột bị loại bỏ bao gồm: 'key', 'class', 'expire_time_gmt', 'obs_id', 'obs_name', 'day_ind', 'wx_icon', 'icon_extd', 'wc', 'wdir', 'wdir_cardinal', 'clds'"
   ]
  },
  {
   "cell_type": "markdown",
   "metadata": {},
   "source": [
    "### Loại bỏ một số cột không cần thiết"
   ]
  },
  {
   "cell_type": "code",
   "execution_count": 64,
   "metadata": {},
   "outputs": [
    {
     "data": {
      "text/plain": [
       "Index(['valid_time_gmt', 'temp', 'wx_phrase', 'dewPt', 'heat_index', 'rh',\n",
       "       'pressure', 'vis', 'wspd', 'uv_desc', 'feels_like', 'uv_index'],\n",
       "      dtype='object')"
      ]
     },
     "execution_count": 64,
     "metadata": {},
     "output_type": "execute_result"
    }
   ],
   "source": [
    "del_cols = ['key', 'class', 'expire_time_gmt', 'obs_id', 'obs_name', 'day_ind', 'wx_icon', 'icon_extd', 'wc', 'wdir', 'wdir_cardinal', 'clds']\n",
    "df = df.drop(del_cols, axis=1)\n",
    "df.columns"
   ]
  },
  {
   "cell_type": "markdown",
   "metadata": {},
   "source": [
    "Để dễ dàng ghi nhớ ý nghĩa của từng cột, ta tiến hành thay đổi tên cột bằng phương thức `rename()`"
   ]
  },
  {
   "cell_type": "code",
   "execution_count": 65,
   "metadata": {},
   "outputs": [
    {
     "data": {
      "text/plain": [
       "Index(['Time', 'Temperature', 'Heat Index', 'Temperature Feels Like',\n",
       "       'Dew Point', 'Humidity', 'Wind Force', 'Wind Speed', 'Pressure',\n",
       "       'UV Description', 'UV Index', 'Condition'],\n",
       "      dtype='object')"
      ]
     },
     "execution_count": 65,
     "metadata": {},
     "output_type": "execute_result"
    }
   ],
   "source": [
    "df.rename(columns = {'valid_time_gmt':'Time',\n",
    "                     'temp':'Temperature',\n",
    "                     'wx_phrase':'Condition',\n",
    "                     'dewPt':'Dew Point',\n",
    "                     'heat_index':'Heat Index',\n",
    "                     'rh':'Humidity',\n",
    "                     'pressure':'Pressure',\n",
    "                     'vis':'Wind Force',\n",
    "                     'wspd':'Wind Speed',\n",
    "                     'uv_desc':'UV Description',\n",
    "                     'feels_like':'Temperature Feels Like',\n",
    "                     'uv_index':'UV Index'}, inplace = True)\n",
    "# Sắp xếp lại thứ tự các cột\n",
    "df = df[['Time',\n",
    "         'Temperature', 'Heat Index', 'Temperature Feels Like',\n",
    "         'Dew Point', 'Humidity',\n",
    "         'Wind Force', 'Wind Speed',\n",
    "         'Pressure',\n",
    "         'UV Description', 'UV Index',\n",
    "         'Condition',]]\n",
    "df.columns"
   ]
  },
  {
   "cell_type": "markdown",
   "metadata": {},
   "source": [
    "## ?. Thống kê mô tả của từng cột"
   ]
  },
  {
   "cell_type": "markdown",
   "metadata": {},
   "source": [
    "Tính các giá trị thống kê mô tả của các cột numeric bằng phương thức `describe()`"
   ]
  },
  {
   "cell_type": "code",
   "execution_count": 66,
   "metadata": {},
   "outputs": [
    {
     "data": {
      "text/html": [
       "<div>\n",
       "<style scoped>\n",
       "    .dataframe tbody tr th:only-of-type {\n",
       "        vertical-align: middle;\n",
       "    }\n",
       "\n",
       "    .dataframe tbody tr th {\n",
       "        vertical-align: top;\n",
       "    }\n",
       "\n",
       "    .dataframe thead th {\n",
       "        text-align: right;\n",
       "    }\n",
       "</style>\n",
       "<table border=\"1\" class=\"dataframe\">\n",
       "  <thead>\n",
       "    <tr style=\"text-align: right;\">\n",
       "      <th></th>\n",
       "      <th>Time</th>\n",
       "      <th>Temperature</th>\n",
       "      <th>Heat Index</th>\n",
       "      <th>Temperature Feels Like</th>\n",
       "      <th>Dew Point</th>\n",
       "      <th>Humidity</th>\n",
       "      <th>Wind Force</th>\n",
       "      <th>Wind Speed</th>\n",
       "      <th>Pressure</th>\n",
       "      <th>UV Index</th>\n",
       "    </tr>\n",
       "  </thead>\n",
       "  <tbody>\n",
       "    <tr>\n",
       "      <th>count</th>\n",
       "      <td>1.739000e+04</td>\n",
       "      <td>17390.000000</td>\n",
       "      <td>17388.000000</td>\n",
       "      <td>17388.000000</td>\n",
       "      <td>17388.000000</td>\n",
       "      <td>17388.000000</td>\n",
       "      <td>17390.000000</td>\n",
       "      <td>17390.000000</td>\n",
       "      <td>17380.000000</td>\n",
       "      <td>17390.000000</td>\n",
       "    </tr>\n",
       "    <tr>\n",
       "      <th>mean</th>\n",
       "      <td>1.625183e+09</td>\n",
       "      <td>82.682691</td>\n",
       "      <td>88.648781</td>\n",
       "      <td>88.648781</td>\n",
       "      <td>74.017483</td>\n",
       "      <td>77.013055</td>\n",
       "      <td>5.458048</td>\n",
       "      <td>5.906095</td>\n",
       "      <td>29.760186</td>\n",
       "      <td>1.991777</td>\n",
       "    </tr>\n",
       "    <tr>\n",
       "      <th>std</th>\n",
       "      <td>9.068949e+06</td>\n",
       "      <td>5.317355</td>\n",
       "      <td>8.770057</td>\n",
       "      <td>8.770057</td>\n",
       "      <td>4.949708</td>\n",
       "      <td>16.298229</td>\n",
       "      <td>1.002710</td>\n",
       "      <td>3.696052</td>\n",
       "      <td>0.069068</td>\n",
       "      <td>3.048441</td>\n",
       "    </tr>\n",
       "    <tr>\n",
       "      <th>min</th>\n",
       "      <td>1.609434e+09</td>\n",
       "      <td>64.000000</td>\n",
       "      <td>64.000000</td>\n",
       "      <td>64.000000</td>\n",
       "      <td>46.000000</td>\n",
       "      <td>21.000000</td>\n",
       "      <td>0.370000</td>\n",
       "      <td>0.000000</td>\n",
       "      <td>29.520000</td>\n",
       "      <td>0.000000</td>\n",
       "    </tr>\n",
       "    <tr>\n",
       "      <th>25%</th>\n",
       "      <td>1.617342e+09</td>\n",
       "      <td>79.000000</td>\n",
       "      <td>82.000000</td>\n",
       "      <td>82.000000</td>\n",
       "      <td>72.000000</td>\n",
       "      <td>66.000000</td>\n",
       "      <td>6.000000</td>\n",
       "      <td>3.000000</td>\n",
       "      <td>29.700000</td>\n",
       "      <td>0.000000</td>\n",
       "    </tr>\n",
       "    <tr>\n",
       "      <th>50%</th>\n",
       "      <td>1.625194e+09</td>\n",
       "      <td>82.000000</td>\n",
       "      <td>88.000000</td>\n",
       "      <td>88.000000</td>\n",
       "      <td>75.000000</td>\n",
       "      <td>79.000000</td>\n",
       "      <td>6.000000</td>\n",
       "      <td>6.000000</td>\n",
       "      <td>29.760000</td>\n",
       "      <td>0.000000</td>\n",
       "    </tr>\n",
       "    <tr>\n",
       "      <th>75%</th>\n",
       "      <td>1.633030e+09</td>\n",
       "      <td>86.000000</td>\n",
       "      <td>95.000000</td>\n",
       "      <td>95.000000</td>\n",
       "      <td>77.000000</td>\n",
       "      <td>89.000000</td>\n",
       "      <td>6.000000</td>\n",
       "      <td>8.000000</td>\n",
       "      <td>29.820000</td>\n",
       "      <td>4.000000</td>\n",
       "    </tr>\n",
       "    <tr>\n",
       "      <th>max</th>\n",
       "      <td>1.640882e+09</td>\n",
       "      <td>99.000000</td>\n",
       "      <td>114.000000</td>\n",
       "      <td>114.000000</td>\n",
       "      <td>84.000000</td>\n",
       "      <td>100.000000</td>\n",
       "      <td>6.000000</td>\n",
       "      <td>31.000000</td>\n",
       "      <td>29.970000</td>\n",
       "      <td>15.000000</td>\n",
       "    </tr>\n",
       "  </tbody>\n",
       "</table>\n",
       "</div>"
      ],
      "text/plain": [
       "               Time   Temperature    Heat Index  Temperature Feels Like  \\\n",
       "count  1.739000e+04  17390.000000  17388.000000            17388.000000   \n",
       "mean   1.625183e+09     82.682691     88.648781               88.648781   \n",
       "std    9.068949e+06      5.317355      8.770057                8.770057   \n",
       "min    1.609434e+09     64.000000     64.000000               64.000000   \n",
       "25%    1.617342e+09     79.000000     82.000000               82.000000   \n",
       "50%    1.625194e+09     82.000000     88.000000               88.000000   \n",
       "75%    1.633030e+09     86.000000     95.000000               95.000000   \n",
       "max    1.640882e+09     99.000000    114.000000              114.000000   \n",
       "\n",
       "          Dew Point      Humidity    Wind Force    Wind Speed      Pressure  \\\n",
       "count  17388.000000  17388.000000  17390.000000  17390.000000  17380.000000   \n",
       "mean      74.017483     77.013055      5.458048      5.906095     29.760186   \n",
       "std        4.949708     16.298229      1.002710      3.696052      0.069068   \n",
       "min       46.000000     21.000000      0.370000      0.000000     29.520000   \n",
       "25%       72.000000     66.000000      6.000000      3.000000     29.700000   \n",
       "50%       75.000000     79.000000      6.000000      6.000000     29.760000   \n",
       "75%       77.000000     89.000000      6.000000      8.000000     29.820000   \n",
       "max       84.000000    100.000000      6.000000     31.000000     29.970000   \n",
       "\n",
       "           UV Index  \n",
       "count  17390.000000  \n",
       "mean       1.991777  \n",
       "std        3.048441  \n",
       "min        0.000000  \n",
       "25%        0.000000  \n",
       "50%        0.000000  \n",
       "75%        4.000000  \n",
       "max       15.000000  "
      ]
     },
     "execution_count": 66,
     "metadata": {},
     "output_type": "execute_result"
    }
   ],
   "source": [
    "df.describe()"
   ]
  },
  {
   "cell_type": "markdown",
   "metadata": {},
   "source": [
    "## 6. Mỗi cột hiện đang có kiểu dữ liệu gì? Có cột nào có kiểu dữ liệu chưa phù hợp để có thể xử lý tiếp hay không?"
   ]
  },
  {
   "cell_type": "code",
   "execution_count": 67,
   "metadata": {},
   "outputs": [
    {
     "name": "stdout",
     "output_type": "stream",
     "text": [
      "<class 'pandas.core.frame.DataFrame'>\n",
      "RangeIndex: 17390 entries, 0 to 17389\n",
      "Data columns (total 12 columns):\n",
      " #   Column                  Non-Null Count  Dtype  \n",
      "---  ------                  --------------  -----  \n",
      " 0   Time                    17390 non-null  int64  \n",
      " 1   Temperature             17390 non-null  int64  \n",
      " 2   Heat Index              17388 non-null  float64\n",
      " 3   Temperature Feels Like  17388 non-null  float64\n",
      " 4   Dew Point               17388 non-null  float64\n",
      " 5   Humidity                17388 non-null  float64\n",
      " 6   Wind Force              17390 non-null  float64\n",
      " 7   Wind Speed              17390 non-null  int64  \n",
      " 8   Pressure                17380 non-null  float64\n",
      " 9   UV Description          17390 non-null  object \n",
      " 10  UV Index                17390 non-null  int64  \n",
      " 11  Condition               17390 non-null  object \n",
      "dtypes: float64(6), int64(4), object(2)\n",
      "memory usage: 1.6+ MB\n"
     ]
    }
   ],
   "source": [
    "df.info()"
   ]
  },
  {
   "cell_type": "code",
   "execution_count": 68,
   "metadata": {},
   "outputs": [
    {
     "data": {
      "text/html": [
       "<div>\n",
       "<style scoped>\n",
       "    .dataframe tbody tr th:only-of-type {\n",
       "        vertical-align: middle;\n",
       "    }\n",
       "\n",
       "    .dataframe tbody tr th {\n",
       "        vertical-align: top;\n",
       "    }\n",
       "\n",
       "    .dataframe thead th {\n",
       "        text-align: right;\n",
       "    }\n",
       "</style>\n",
       "<table border=\"1\" class=\"dataframe\">\n",
       "  <thead>\n",
       "    <tr style=\"text-align: right;\">\n",
       "      <th></th>\n",
       "      <th>Time</th>\n",
       "      <th>Temperature</th>\n",
       "      <th>Heat Index</th>\n",
       "      <th>Temperature Feels Like</th>\n",
       "      <th>Dew Point</th>\n",
       "      <th>Humidity</th>\n",
       "      <th>Wind Force</th>\n",
       "      <th>Wind Speed</th>\n",
       "      <th>Pressure</th>\n",
       "      <th>UV Description</th>\n",
       "      <th>UV Index</th>\n",
       "      <th>Condition</th>\n",
       "    </tr>\n",
       "  </thead>\n",
       "  <tbody>\n",
       "    <tr>\n",
       "      <th>0</th>\n",
       "      <td>1609434000</td>\n",
       "      <td>75</td>\n",
       "      <td>75.0</td>\n",
       "      <td>75.0</td>\n",
       "      <td>61.0</td>\n",
       "      <td>61.0</td>\n",
       "      <td>6.0</td>\n",
       "      <td>8</td>\n",
       "      <td>29.85</td>\n",
       "      <td>Low</td>\n",
       "      <td>0</td>\n",
       "      <td>Partly Cloudy</td>\n",
       "    </tr>\n",
       "    <tr>\n",
       "      <th>1</th>\n",
       "      <td>1609435800</td>\n",
       "      <td>75</td>\n",
       "      <td>75.0</td>\n",
       "      <td>75.0</td>\n",
       "      <td>61.0</td>\n",
       "      <td>61.0</td>\n",
       "      <td>6.0</td>\n",
       "      <td>7</td>\n",
       "      <td>29.85</td>\n",
       "      <td>Low</td>\n",
       "      <td>0</td>\n",
       "      <td>Partly Cloudy</td>\n",
       "    </tr>\n",
       "    <tr>\n",
       "      <th>2</th>\n",
       "      <td>1609437600</td>\n",
       "      <td>75</td>\n",
       "      <td>75.0</td>\n",
       "      <td>75.0</td>\n",
       "      <td>61.0</td>\n",
       "      <td>61.0</td>\n",
       "      <td>6.0</td>\n",
       "      <td>7</td>\n",
       "      <td>29.82</td>\n",
       "      <td>Low</td>\n",
       "      <td>0</td>\n",
       "      <td>Partly Cloudy</td>\n",
       "    </tr>\n",
       "    <tr>\n",
       "      <th>3</th>\n",
       "      <td>1609439400</td>\n",
       "      <td>73</td>\n",
       "      <td>73.0</td>\n",
       "      <td>73.0</td>\n",
       "      <td>61.0</td>\n",
       "      <td>65.0</td>\n",
       "      <td>4.0</td>\n",
       "      <td>6</td>\n",
       "      <td>29.82</td>\n",
       "      <td>Low</td>\n",
       "      <td>0</td>\n",
       "      <td>Partly Cloudy</td>\n",
       "    </tr>\n",
       "    <tr>\n",
       "      <th>4</th>\n",
       "      <td>1609441200</td>\n",
       "      <td>73</td>\n",
       "      <td>73.0</td>\n",
       "      <td>73.0</td>\n",
       "      <td>61.0</td>\n",
       "      <td>65.0</td>\n",
       "      <td>4.0</td>\n",
       "      <td>6</td>\n",
       "      <td>29.82</td>\n",
       "      <td>Low</td>\n",
       "      <td>0</td>\n",
       "      <td>Partly Cloudy</td>\n",
       "    </tr>\n",
       "  </tbody>\n",
       "</table>\n",
       "</div>"
      ],
      "text/plain": [
       "         Time  Temperature  Heat Index  Temperature Feels Like  Dew Point  \\\n",
       "0  1609434000           75        75.0                    75.0       61.0   \n",
       "1  1609435800           75        75.0                    75.0       61.0   \n",
       "2  1609437600           75        75.0                    75.0       61.0   \n",
       "3  1609439400           73        73.0                    73.0       61.0   \n",
       "4  1609441200           73        73.0                    73.0       61.0   \n",
       "\n",
       "   Humidity  Wind Force  Wind Speed  Pressure UV Description  UV Index  \\\n",
       "0      61.0         6.0           8     29.85            Low         0   \n",
       "1      61.0         6.0           7     29.85            Low         0   \n",
       "2      61.0         6.0           7     29.82            Low         0   \n",
       "3      65.0         4.0           6     29.82            Low         0   \n",
       "4      65.0         4.0           6     29.82            Low         0   \n",
       "\n",
       "       Condition  \n",
       "0  Partly Cloudy  \n",
       "1  Partly Cloudy  \n",
       "2  Partly Cloudy  \n",
       "3  Partly Cloudy  \n",
       "4  Partly Cloudy  "
      ]
     },
     "execution_count": 68,
     "metadata": {},
     "output_type": "execute_result"
    }
   ],
   "source": [
    "pd.set_option('display.max_columns', None)\n",
    "df.head()"
   ]
  },
  {
   "cell_type": "markdown",
   "metadata": {},
   "source": [
    "Ta có thể thấy, cột `Time` nên là dữ liệu datetime, nhưng hiện giờ đang có kiểu dữ liệu numeric"
   ]
  },
  {
   "cell_type": "markdown",
   "metadata": {},
   "source": [
    "Ta nên đưa giá trị 2 cột này về dạng datetime để có thể nhìn nhận và khám phá dễ hơn"
   ]
  },
  {
   "cell_type": "code",
   "execution_count": 69,
   "metadata": {},
   "outputs": [],
   "source": [
    "def convert_time_column_to_datetime_type(df):\n",
    "    if df['Time'].dtypes == 'int64':\n",
    "        df['Time']= df['Time'].apply(datetime.fromtimestamp)\n",
    "    return df\n"
   ]
  },
  {
   "cell_type": "code",
   "execution_count": 70,
   "metadata": {},
   "outputs": [],
   "source": [
    "df = convert_time_column_to_datetime_type(df)"
   ]
  },
  {
   "cell_type": "markdown",
   "metadata": {},
   "source": [
    "## ?. Xem xét tập giá trị của các thuộc tính phân loại"
   ]
  },
  {
   "cell_type": "markdown",
   "metadata": {},
   "source": [
    "Xem xét mỗi thuộc tính phân loại có bao nhiêu giá trị phân biệt bằng phương thức `set()`"
   ]
  },
  {
   "cell_type": "code",
   "execution_count": 71,
   "metadata": {},
   "outputs": [
    {
     "data": {
      "text/plain": [
       "{'Extreme', 'High', 'Low', 'Moderate', 'Very High'}"
      ]
     },
     "execution_count": 71,
     "metadata": {},
     "output_type": "execute_result"
    }
   ],
   "source": [
    "set(df['UV Description'].to_list())"
   ]
  },
  {
   "cell_type": "code",
   "execution_count": 72,
   "metadata": {},
   "outputs": [
    {
     "data": {
      "text/plain": [
       "5"
      ]
     },
     "execution_count": 72,
     "metadata": {},
     "output_type": "execute_result"
    }
   ],
   "source": [
    "len(set(df['UV Description'].to_list()))"
   ]
  },
  {
   "cell_type": "code",
   "execution_count": 73,
   "metadata": {},
   "outputs": [
    {
     "data": {
      "text/plain": [
       "{'Cloudy',\n",
       " 'Fair',\n",
       " 'Fog',\n",
       " 'Haze',\n",
       " 'Heavy Rain Shower',\n",
       " 'Heavy Rain Shower / Windy',\n",
       " 'Heavy T-Storm',\n",
       " 'Heavy T-Storm / Windy',\n",
       " 'Light Rain',\n",
       " 'Light Rain Shower',\n",
       " 'Light Rain Shower / Windy',\n",
       " 'Light Rain with Thunder',\n",
       " 'Mostly Cloudy',\n",
       " 'Mostly Cloudy / Windy',\n",
       " 'Partly Cloudy',\n",
       " 'Partly Cloudy / Windy',\n",
       " 'Rain',\n",
       " 'Rain Shower',\n",
       " 'Rain Shower / Windy',\n",
       " 'Showers in the Vicinity',\n",
       " 'T-Storm',\n",
       " 'T-Storm / Windy',\n",
       " 'Thunder',\n",
       " 'Thunder in the Vicinity'}"
      ]
     },
     "execution_count": 73,
     "metadata": {},
     "output_type": "execute_result"
    }
   ],
   "source": [
    "set(df['Condition'].to_list())"
   ]
  },
  {
   "cell_type": "code",
   "execution_count": 74,
   "metadata": {},
   "outputs": [
    {
     "data": {
      "text/plain": [
       "24"
      ]
     },
     "execution_count": 74,
     "metadata": {},
     "output_type": "execute_result"
    }
   ],
   "source": [
    "len(set(df['Condition'].to_list()))"
   ]
  },
  {
   "cell_type": "markdown",
   "metadata": {},
   "source": [
    "Nhận xét:\n",
    "- Có nhiều loại điều kiện thời tiết được liệt kê (24 loại)\n",
    "- Xuất hiện nhiều loại có thể xếp chung vào một nhóm\n",
    "\n",
    "Để phù hợp với mục tiêu khám phá và phân tích dữ liệu, phân chia các loại vào các nhóm như sau:\n",
    "- 'Cloudy'\n",
    "- 'Fair'\n",
    "- 'Fog / Haze'\n",
    "- 'Rain'\n",
    "- 'T-Storm'\n",
    "- 'Thunder'"
   ]
  },
  {
   "cell_type": "code",
   "execution_count": 75,
   "metadata": {},
   "outputs": [],
   "source": [
    "condition = {'Cloudy':'Cloudy',\n",
    "             'Fair':'Fair',\n",
    "             'Fog':'Fog / Haze',\n",
    "             'Haze':'Fog / Haze',\n",
    "             'Heavy Rain Shower':'Rain',\n",
    "             'Heavy Rain Shower / Windy':'Rain',\n",
    "             'Heavy T-Storm':'T-Storm',\n",
    "             'Heavy T-Storm / Windy':'T-Storm',\n",
    "             'Light Rain':'Rain',\n",
    "             'Light Rain Shower':'Rain',\n",
    "             'Light Rain Shower / Windy':'Rain',\n",
    "             'Light Rain with Thunder':'Rain',\n",
    "             'Mostly Cloudy':'Cloudy',\n",
    "             'Mostly Cloudy / Windy':'Cloudy',\n",
    "             'Partly Cloudy':'Cloudy',\n",
    "             'Partly Cloudy / Windy':'Cloudy',\n",
    "             'Rain':'Rain',\n",
    "             'Rain Shower':'Rain',\n",
    "             'Rain Shower / Windy':'Rain',\n",
    "             'Showers in the Vicinity':'Rain',\n",
    "             'T-Storm':'T-Storm',\n",
    "             'T-Storm / Windy':'T-Storm',\n",
    "             'Thunder':'Thunder',\n",
    "             'Thunder in the Vicinity':'Thunder'}"
   ]
  },
  {
   "cell_type": "code",
   "execution_count": 76,
   "metadata": {},
   "outputs": [
    {
     "data": {
      "text/plain": [
       "{'Cloudy', 'Fair', 'Fog / Haze', 'Rain', 'T-Storm', 'Thunder'}"
      ]
     },
     "execution_count": 76,
     "metadata": {},
     "output_type": "execute_result"
    }
   ],
   "source": [
    "df['Condition'] = df['Condition'].map(condition)\n",
    "set(df['Condition'].to_list())"
   ]
  },
  {
   "cell_type": "markdown",
   "metadata": {},
   "source": [
    "## 7. Với mỗi cột có kiểu dữ liệu số, các giá trị phân bố như thế nào?"
   ]
  },
  {
   "cell_type": "markdown",
   "metadata": {},
   "source": [
    "Với các cột có kiểu dữ liệu số, ta sẽ tính:\n",
    "- Tỉ lệ % (từ 0 đến 100) các giá trị thiếu \n",
    "- Giá trị min\n",
    "- Giá trị lower quartile (phân vị 25)\n",
    "- Giá trị median (phân vị 50)\n",
    "- Giá trị upper quartile (phân vị 75)\n",
    "- Giá trị max\n",
    "\n",
    "Ta sẽ lưu kết quả vào DataFrame `num_col_info_df`, trong đó: \n",
    "- Tên của các cột là tên của các cột số trong `df`\n",
    "- Tên của các dòng là: \"missing_ratio\", \"min\", \"lower_quartile\", \"median\", \"upper_quartile\", \"max\"  "
   ]
  },
  {
   "cell_type": "code",
   "execution_count": 77,
   "metadata": {},
   "outputs": [],
   "source": [
    "data = {\n",
    "    \"row_name\" : [\"missing_ratio\", \"min\", \"lower_quartile\", \"median\", \"upper_quartile\", \"max\"]\n",
    "}\n",
    "col_name = []\n",
    "for i in df.columns:\n",
    "    if (df[i].dtypes == 'float64') or (df[i].dtypes == 'int64'):\n",
    "        col_name.append(i)\n",
    "\n",
    "for i in col_name:\n",
    "    _data = []\n",
    "    missing_data = df[i].isna().sum()\n",
    "    _data.append((missing_data / len(df[i]) * 100).round(1))\n",
    "    _data.append(df[i].min())\n",
    "    percentile = df[i].quantile([0.25,0.5,0.75])\n",
    "    _data.append(percentile[0.25])\n",
    "    _data.append(percentile[0.5])\n",
    "    _data.append(percentile[0.75])\n",
    "    _data.append(df[i].max())\n",
    "    data[i] = _data\n",
    "num_col_info_df = pd.DataFrame(data).set_index('row_name')"
   ]
  },
  {
   "cell_type": "code",
   "execution_count": 78,
   "metadata": {},
   "outputs": [
    {
     "data": {
      "text/html": [
       "<div>\n",
       "<style scoped>\n",
       "    .dataframe tbody tr th:only-of-type {\n",
       "        vertical-align: middle;\n",
       "    }\n",
       "\n",
       "    .dataframe tbody tr th {\n",
       "        vertical-align: top;\n",
       "    }\n",
       "\n",
       "    .dataframe thead th {\n",
       "        text-align: right;\n",
       "    }\n",
       "</style>\n",
       "<table border=\"1\" class=\"dataframe\">\n",
       "  <thead>\n",
       "    <tr style=\"text-align: right;\">\n",
       "      <th></th>\n",
       "      <th>Temperature</th>\n",
       "      <th>Heat Index</th>\n",
       "      <th>Temperature Feels Like</th>\n",
       "      <th>Dew Point</th>\n",
       "      <th>Humidity</th>\n",
       "      <th>Wind Force</th>\n",
       "      <th>Wind Speed</th>\n",
       "      <th>Pressure</th>\n",
       "      <th>UV Index</th>\n",
       "    </tr>\n",
       "    <tr>\n",
       "      <th>row_name</th>\n",
       "      <th></th>\n",
       "      <th></th>\n",
       "      <th></th>\n",
       "      <th></th>\n",
       "      <th></th>\n",
       "      <th></th>\n",
       "      <th></th>\n",
       "      <th></th>\n",
       "      <th></th>\n",
       "    </tr>\n",
       "  </thead>\n",
       "  <tbody>\n",
       "    <tr>\n",
       "      <th>missing_ratio</th>\n",
       "      <td>0.0</td>\n",
       "      <td>0.0</td>\n",
       "      <td>0.0</td>\n",
       "      <td>0.0</td>\n",
       "      <td>0.0</td>\n",
       "      <td>0.00</td>\n",
       "      <td>0.0</td>\n",
       "      <td>0.10</td>\n",
       "      <td>0.0</td>\n",
       "    </tr>\n",
       "    <tr>\n",
       "      <th>min</th>\n",
       "      <td>64.0</td>\n",
       "      <td>64.0</td>\n",
       "      <td>64.0</td>\n",
       "      <td>46.0</td>\n",
       "      <td>21.0</td>\n",
       "      <td>0.37</td>\n",
       "      <td>0.0</td>\n",
       "      <td>29.52</td>\n",
       "      <td>0.0</td>\n",
       "    </tr>\n",
       "    <tr>\n",
       "      <th>lower_quartile</th>\n",
       "      <td>79.0</td>\n",
       "      <td>82.0</td>\n",
       "      <td>82.0</td>\n",
       "      <td>72.0</td>\n",
       "      <td>66.0</td>\n",
       "      <td>6.00</td>\n",
       "      <td>3.0</td>\n",
       "      <td>29.70</td>\n",
       "      <td>0.0</td>\n",
       "    </tr>\n",
       "    <tr>\n",
       "      <th>median</th>\n",
       "      <td>82.0</td>\n",
       "      <td>88.0</td>\n",
       "      <td>88.0</td>\n",
       "      <td>75.0</td>\n",
       "      <td>79.0</td>\n",
       "      <td>6.00</td>\n",
       "      <td>6.0</td>\n",
       "      <td>29.76</td>\n",
       "      <td>0.0</td>\n",
       "    </tr>\n",
       "    <tr>\n",
       "      <th>upper_quartile</th>\n",
       "      <td>86.0</td>\n",
       "      <td>95.0</td>\n",
       "      <td>95.0</td>\n",
       "      <td>77.0</td>\n",
       "      <td>89.0</td>\n",
       "      <td>6.00</td>\n",
       "      <td>8.0</td>\n",
       "      <td>29.82</td>\n",
       "      <td>4.0</td>\n",
       "    </tr>\n",
       "    <tr>\n",
       "      <th>max</th>\n",
       "      <td>99.0</td>\n",
       "      <td>114.0</td>\n",
       "      <td>114.0</td>\n",
       "      <td>84.0</td>\n",
       "      <td>100.0</td>\n",
       "      <td>6.00</td>\n",
       "      <td>31.0</td>\n",
       "      <td>29.97</td>\n",
       "      <td>15.0</td>\n",
       "    </tr>\n",
       "  </tbody>\n",
       "</table>\n",
       "</div>"
      ],
      "text/plain": [
       "                Temperature  Heat Index  Temperature Feels Like  Dew Point  \\\n",
       "row_name                                                                     \n",
       "missing_ratio           0.0         0.0                     0.0        0.0   \n",
       "min                    64.0        64.0                    64.0       46.0   \n",
       "lower_quartile         79.0        82.0                    82.0       72.0   \n",
       "median                 82.0        88.0                    88.0       75.0   \n",
       "upper_quartile         86.0        95.0                    95.0       77.0   \n",
       "max                    99.0       114.0                   114.0       84.0   \n",
       "\n",
       "                Humidity  Wind Force  Wind Speed  Pressure  UV Index  \n",
       "row_name                                                              \n",
       "missing_ratio        0.0        0.00         0.0      0.10       0.0  \n",
       "min                 21.0        0.37         0.0     29.52       0.0  \n",
       "lower_quartile      66.0        6.00         3.0     29.70       0.0  \n",
       "median              79.0        6.00         6.0     29.76       0.0  \n",
       "upper_quartile      89.0        6.00         8.0     29.82       4.0  \n",
       "max                100.0        6.00        31.0     29.97      15.0  "
      ]
     },
     "execution_count": 78,
     "metadata": {},
     "output_type": "execute_result"
    }
   ],
   "source": [
    "num_col_info_df"
   ]
  },
  {
   "cell_type": "markdown",
   "metadata": {},
   "source": [
    "## 8. Với mỗi cột có kiểu dữ liệu không phải dạng số, các giá trị được phân bố như thế nào?"
   ]
  },
  {
   "cell_type": "markdown",
   "metadata": {},
   "source": [
    "Thực hiện thống kê và lưu vào một dataframe với các dòng là đại diện cho các giá trị như sau:\n",
    "- Tỉ lệ % (từ 0 đến 100) các giá trị thiếu (missing_ratio).\n",
    "- Số lượng các giá trị khác nhau (không xét giá trị thiếu) (num_values).\n",
    "- Tỉ lệ % (từ 0 đến 100) của mỗi giá trị được sort theo tỉ lệ % giảm dần (không xét giá trị thiếu, tỉ lệ là tỉ lệ so với số lượng các giá trị không thiếu): dùng dictionary để lưu, key là giá trị, value là tỉ lệ % (value_ratios)."
   ]
  },
  {
   "cell_type": "code",
   "execution_count": 79,
   "metadata": {},
   "outputs": [],
   "source": [
    "categorical_df=df.select_dtypes(exclude=['int64','float64','datetime64'])\n",
    "data = {\n",
    "    \"row_name\" : [\"missing_ratio\", \"num_values\", \"value_ratios\"]\n",
    "}\n",
    "col_names = list(categorical_df.columns)\n",
    "for i in col_names:\n",
    "    _data = []\n",
    "\n",
    "    #Tính missing ratio\n",
    "    missing_ratio = (categorical_df[i].isna().sum())/len(df[i]) * 100\n",
    "    _data.append(missing_ratio)\n",
    "\n",
    "    #Tính số lượng giá trị khác nhau\n",
    "    num_values = categorical_df[i].dropna().nunique()\n",
    "    _data.append(num_values)\n",
    "\n",
    "    #Tính tỉ lệ của các giá trị\n",
    "    dict_value_ratios ={}\n",
    "    values = categorical_df[i].value_counts(normalize=True,sort=True)\n",
    "    name_values = list(values.index)\n",
    "    for k in range(len(name_values)):\n",
    "        dict_value_ratios[name_values[k]] = round(values[k]*100,1)\n",
    "    _data.append(dict_value_ratios)\n",
    "    \n",
    "    data[i] = _data\n",
    "\n",
    "cat_col_info_df = pd.DataFrame(data).set_index('row_name')\n"
   ]
  },
  {
   "cell_type": "code",
   "execution_count": 80,
   "metadata": {},
   "outputs": [
    {
     "data": {
      "text/html": [
       "<div>\n",
       "<style scoped>\n",
       "    .dataframe tbody tr th:only-of-type {\n",
       "        vertical-align: middle;\n",
       "    }\n",
       "\n",
       "    .dataframe tbody tr th {\n",
       "        vertical-align: top;\n",
       "    }\n",
       "\n",
       "    .dataframe thead th {\n",
       "        text-align: right;\n",
       "    }\n",
       "</style>\n",
       "<table border=\"1\" class=\"dataframe\">\n",
       "  <thead>\n",
       "    <tr style=\"text-align: right;\">\n",
       "      <th></th>\n",
       "      <th>UV Description</th>\n",
       "      <th>Condition</th>\n",
       "    </tr>\n",
       "    <tr>\n",
       "      <th>row_name</th>\n",
       "      <th></th>\n",
       "      <th></th>\n",
       "    </tr>\n",
       "  </thead>\n",
       "  <tbody>\n",
       "    <tr>\n",
       "      <th>missing_ratio</th>\n",
       "      <td>0.0</td>\n",
       "      <td>0.0</td>\n",
       "    </tr>\n",
       "    <tr>\n",
       "      <th>num_values</th>\n",
       "      <td>5</td>\n",
       "      <td>6</td>\n",
       "    </tr>\n",
       "    <tr>\n",
       "      <th>value_ratios</th>\n",
       "      <td>{'Low': 70.6, 'Moderate': 11.6, 'High': 9.0, '...</td>\n",
       "      <td>{'Cloudy': 73.9, 'Fair': 18.8, 'Rain': 5.7, 'T...</td>\n",
       "    </tr>\n",
       "  </tbody>\n",
       "</table>\n",
       "</div>"
      ],
      "text/plain": [
       "                                                  UV Description  \\\n",
       "row_name                                                           \n",
       "missing_ratio                                                0.0   \n",
       "num_values                                                     5   \n",
       "value_ratios   {'Low': 70.6, 'Moderate': 11.6, 'High': 9.0, '...   \n",
       "\n",
       "                                                       Condition  \n",
       "row_name                                                          \n",
       "missing_ratio                                                0.0  \n",
       "num_values                                                     6  \n",
       "value_ratios   {'Cloudy': 73.9, 'Fair': 18.8, 'Rain': 5.7, 'T...  "
      ]
     },
     "execution_count": 80,
     "metadata": {},
     "output_type": "execute_result"
    }
   ],
   "source": [
    "cat_col_info_df"
   ]
  },
  {
   "cell_type": "markdown",
   "metadata": {},
   "source": [
    "# C. Đặt câu hỏi và trả lời"
   ]
  },
  {
   "cell_type": "markdown",
   "metadata": {},
   "source": [
    "## Câu hỏi 1"
   ]
  },
  {
   "cell_type": "markdown",
   "metadata": {},
   "source": [
    "### Nội dung câu hỏi\n",
    "\n",
    "Các điều kiện thời tiết phân bố như thế nào trong năm?"
   ]
  },
  {
   "cell_type": "markdown",
   "metadata": {},
   "source": [
    "### Lợi ích khi trả lời câu hỏi\n",
    "\n",
    "Giúp chúng ta nắm rõ được điều kiện thời tiết như thế nào trong năm để có thể có sự chuẩn bị trước cho thời tiết sắp tới. Đặc biệt là khách du lịch hoặc những người mới chuyển vào sinh sống ở đây"
   ]
  },
  {
   "cell_type": "markdown",
   "metadata": {},
   "source": [
    "### Nguồn cảm hứng của câu hỏi"
   ]
  },
  {
   "cell_type": "markdown",
   "metadata": {},
   "source": [
    "Trải nghiệm của bản thân trong năm đầu tiên vào học và sinh sống ở TPHCM"
   ]
  },
  {
   "cell_type": "markdown",
   "metadata": {},
   "source": [
    "### Phân tích dữ liệu cho câu hỏi"
   ]
  },
  {
   "cell_type": "markdown",
   "metadata": {},
   "source": [
    "Dùng `groupby` để gom nhóm các điều kiện thời tiết ở cột `Condition` theo từng tháng"
   ]
  },
  {
   "cell_type": "code",
   "execution_count": 118,
   "metadata": {},
   "outputs": [],
   "source": [
    "condition = df.groupby(df['Time'].dt.month)['Condition'].value_counts()"
   ]
  },
  {
   "cell_type": "markdown",
   "metadata": {},
   "source": [
    "Lưu giá trị vào dictionary `dict_condition` với `key` là các điều kiện thời tiết, `value` là 1 dictionary khác với key là các tháng trong năm và value là số giờ xuất hiện điều kiện thời tiết đó trong tháng"
   ]
  },
  {
   "cell_type": "code",
   "execution_count": 189,
   "metadata": {},
   "outputs": [],
   "source": [
    "month_list = [i for i in range(1,13)] #cac thang trong nam\n",
    "dict_condition = {}\n",
    "for i in df['Condition'].unique():\n",
    "    dict_condition[i] = {}\n",
    "for i in df['Condition'].unique():\n",
    "    for j in month_list:\n",
    "        dict_condition[i][j] = 0\n",
    "for i in condition.index:\n",
    "    dict_condition[i[1]][i[0]] =  condition[(i[0],i[1])]/2"
   ]
  },
  {
   "cell_type": "markdown",
   "metadata": {},
   "source": [
    "### Vẽ biểu đồ phân bố các điều kiện thời tiết"
   ]
  },
  {
   "cell_type": "markdown",
   "metadata": {},
   "source": [
    "Vẽ 1 biểu đồ trong đó có 6 biểu đồ con tương ứng với mỗi điều kiện thời tiết\n",
    "- Trục hoành là các tháng trong năm\n",
    "- Trục tung là số giờ"
   ]
  },
  {
   "cell_type": "code",
   "execution_count": 188,
   "metadata": {},
   "outputs": [
    {
     "data": {
      "image/png": "[encoded data removed]",
      "text/plain": [
       "<Figure size 1500x500 with 6 Axes>"
      ]
     },
     "metadata": {},
     "output_type": "display_data"
    }
   ],
   "source": [
    "fig, axs = plt.subplots(2, 3,figsize=(15,5))\n",
    "\n",
    "id = 0\n",
    "for row in range(0,2):\n",
    "    for col in range(0,3):\n",
    "        title = df['Condition'].unique()[id]\n",
    "        axs[row,col].bar(dict_condition[title].keys(), dict_condition[title].values(),width=0.4)\n",
    "        axs[row,col].set_xticks((month_list))\n",
    "        axs[row,col].set_title(title)\n",
    "        axs[row,col].set_ylabel('Hour')\n",
    "        axs[row,col].set_xlabel('Month')\n",
    "        id +=1\n",
    "plt.subplots_adjust(left=0.1,\n",
    "                    bottom=-0.2,\n",
    "                    right=0.9,\n",
    "                    top=0.9,\n",
    "                    wspace=0.4,\n",
    "                    hspace=0.3)"
   ]
  },
  {
   "cell_type": "markdown",
   "metadata": {},
   "source": [
    "Nhận xét:\n",
    "- Tổng quát:\n",
    "    - Điều kiện thời tiết Cloudy (có mấy), Fair (đẹp) và Rain (mưa)  chiếm phần lớn trong năm\n",
    "    - Các kiểu thời tiết: Fog/Haze (sương mù), T-Storm (giông), và Thunder (sấm sét) xuất hiện ít trong năm với tháng cao nhất chỉ khoảng 13h/tháng \n",
    "\n",
    "- Cụ thể:\n",
    "    - Cloudy:\n",
    "        - Xuất hiện rất thường xuyên trong năm (trên 300h mỗi tháng), chỉ có tháng 1, 2 và 3 là dưới 500h mỗi tháng, còn lại đều trên 500h\n",
    "    - Fair:\n",
    "        - Xuất hiện nhiều vào các tháng đầu năm (tháng 1,2,3) với hơn 200h mỗi tháng, cao điểm nhất là tháng 3 với gần 400h\n",
    "        - Các tháng còn lại trong năm thời gian xuất hiện ít, dưới 150h/tháng, chạm đáy là tháng 9 (vì lúc này là đỉnh điểm của mùa mưa)\n",
    "    - Rain:\n",
    "        - Mưa ít ở các tháng đầu năm và cuối năm (tháng 1,2,3,11,12) với thời gian mưa chỉ dưới 20h/tháng\n",
    "        - Mưa nhiều bắt đầu từ tháng 7 đến tháng 10 --> mùa mưa bắt đầu, đỉnh điểm là tháng 9 với gần 120h mưa \n",
    "    - Fog / Haze:\n",
    "        - Sương mù nhiều vào các tháng đầu và cuối năm (tháng 1,2,10,11) với thời gian trên 6h/tháng\n",
    "        - Sương mù xảy ra ít vào các tháng giữa năm (từ tháng 3 đến tháng 9)\n",
    "    - T-Storm:\n",
    "        - Mưa giông xảy ra nhiều từ tháng 4 đến tháng 10, nhiều nhất vào tháng 8 và tháng 9, đặc biệt là tháng 8\n",
    "        --> Nguyên nhân: lúc đó là thời gian bước vào mùa mưa cho nên giông xuất hiện nhiều\n",
    "    - Thunder:\n",
    "        - Sấm sét phân bố khá đều ở các tháng giữa và cuối năm (từ tháng 1 đến tháng 11)\n",
    "        --> Nguyên nhân: Thông thường sấm sét thường đi kèm với mưa giông\n",
    "        - Xuất hiện ít vào 3 tháng đầu năm (tháng 1,2,3) và tháng 12\n",
    "        --> Nguyên nhân: vào 3 tháng đầu năm là mùa xuân, thời tiết đẹp nên ít xảy ra sấm sét. Tháng 12 ít sấm sét vì lúc đó đã bắt đầu kết thúc mùa mưa chuyển sang mùa nắng"
   ]
  },
  {
   "cell_type": "markdown",
   "metadata": {},
   "source": [
    "## Câu hỏi 4"
   ]
  },
  {
   "cell_type": "markdown",
   "metadata": {},
   "source": [
    "### Nội dung câu hỏi\n",
    "\n",
    "Sự tương quan giữa nhiệt độ không khí, nhiệt độ điểm sương điểm sương và độ ẩm "
   ]
  },
  {
   "cell_type": "markdown",
   "metadata": {},
   "source": [
    "### Lợi ích khi trả lời câu hỏi\n",
    "\n",
    "Giúp ta biết được sự tương quan chung giữa 3 chỉ số thời tiết quan trọng: nhiệt độ không khí, nhiệt độ điểm sương và đọ ẩm"
   ]
  },
  {
   "cell_type": "markdown",
   "metadata": {},
   "source": [
    "### Nguồn cảm hứng của câu hỏi\n",
    "\n",
    "Nhóm tự nghĩ ra khi khám phá dữ liệu"
   ]
  },
  {
   "cell_type": "markdown",
   "metadata": {},
   "source": [
    "### Phân tích dữ liệu để trả lời câu hỏi"
   ]
  },
  {
   "cell_type": "markdown",
   "metadata": {},
   "source": [
    "Ta cần phải tính được nhiệt độ, điểm sương và độ ẩm trung bình mỗi tháng là bao nhiêu"
   ]
  },
  {
   "cell_type": "markdown",
   "metadata": {},
   "source": [
    "Đầu tiên, ta gom các giá trị lại theo từng tháng bằng `groupby` sau đó dùng `sum()` để tính tổng các giá trị\n",
    "\n",
    "Tiếp theo, ta đem giá trị vừa tính được chia cho số giá trị của từng tháng. Ta dùng `value_counts()` để đếm tổng số giá trị và dùng `sort_index()` để sắp xếp index lại theo đúng thứ tự của các tháng trong năm\n",
    "\n",
    "Lưu các giá trị vừa tìm được vào các biến `avg_temperature`, `avg_dew_point`, `avg_humidity` tương ứng với nhiệt độ không khí, nhiệt độ điểm sương và độ ẩm trung bình qua từng tháng"
   ]
  },
  {
   "cell_type": "code",
   "execution_count": 91,
   "metadata": {},
   "outputs": [],
   "source": [
    "#Nhiệt độ điểm sương trung bình mỗi tháng\n",
    "avg_dew_point = df['Dew Point'].groupby(df['Time'].dt.month).sum()/df['Time'].dt.month.value_counts().sort_index()\n",
    "#Độ ẩm trung bình mỗi tháng\n",
    "avg_humidity = df['Humidity'].groupby(df['Time'].dt.month).sum()/df['Time'].dt.month.value_counts().sort_index()\n",
    "#Nhiệt độ trung bình mỗi tháng\n",
    "avg_temperature = df['Temperature'].groupby(df['Time'].dt.month).sum()/df['Time'].dt.month.value_counts().sort_index()"
   ]
  },
  {
   "cell_type": "markdown",
   "metadata": {},
   "source": [
    "### Vẽ biểu đồ thể hiện sự tương quan giữa nhiệt độ không khí, nhiệt độ điểm sương và độ ẩm \n"
   ]
  },
  {
   "cell_type": "markdown",
   "metadata": {},
   "source": [
    "Dùng bar chart để vẽ giá trị độ ẩm\n",
    "\n",
    "Dùng line chart để thể hiện nhiệt độ không khí và điểm sương"
   ]
  },
  {
   "cell_type": "code",
   "execution_count": 104,
   "metadata": {},
   "outputs": [
    {
     "data": {
      "image/png": "[encoded data removed]",
      "text/plain": [
       "<Figure size 640x480 with 2 Axes>"
      ]
     },
     "metadata": {},
     "output_type": "display_data"
    }
   ],
   "source": [
    "fig = plt.figure()\n",
    "ax1 = fig.add_subplot(111)\n",
    "ax1.bar(np.array(month_list), avg_humidity,label='Humidity',width=0.4)\n",
    "ax1.set_ylabel('Humidity')\n",
    "ax1.set_xlabel('Month')\n",
    "ax1.set_ylim(40,120)\n",
    "ax1.set_xticks((month_list))\n",
    "ax2 = ax1.twinx()\n",
    "ax2.plot(month_list, avg_dew_point,color='red', marker='.',label='Dew Point')\n",
    "ax2.plot(month_list, avg_temperature,color='orange', marker='.',label='Temperature')\n",
    "\n",
    "ax2.set_ylim(0,120)\n",
    "plt.title('Graph of correlation between dew point, temperature and humidity in a year')\n",
    "ax2.set_ylabel('Temperature (oK)')\n",
    "fig.legend(loc='lower center', ncol=3, bbox_to_anchor=(0.5, -0.05));"
   ]
  },
  {
   "cell_type": "markdown",
   "metadata": {},
   "source": [
    "Nhận xét:\n",
    "\n",
    "- Nhiệt độ phân bố tương đối đều giữa các tháng, độ chênh lệch giữa tháng có nhiệt độ cao nhất và tháng có nhiệt độ thấp nhất là rất thấp\n",
    "- Độ ẩm trong không khí cao, hầu hết các tháng đều có độ ẩm trung bình trên 70% (trừ tháng 1 và tháng 3)\n",
    "- Nhiệt độ điểm sương gần như là tỉ lệ thuận với nhiệt độ không khí. Khi độ ẩm càng cao thì nhiệt độ điểm sương càng gần với nhiệt độ không khí"
   ]
  }
 ],
 "metadata": {
  "kernelspec": {
   "display_name": "Python 3.10.0 64-bit",
   "language": "python",
   "name": "python3"
  },
  "language_info": {
   "codemirror_mode": {
    "name": "ipython",
    "version": 3
   },
   "file_extension": ".py",
   "mimetype": "text/x-python",
   "name": "python",
   "nbconvert_exporter": "python",
   "pygments_lexer": "ipython3",
   "version": "3.10.0"
  },
  "orig_nbformat": 4,
  "vscode": {
   "interpreter": {
    "hash": "a42ccb73e7d9bfdf27e036f1d2b8b681e55fc0743cc5586bc2474d4a60f4b886"
   }
  }
 },
 "nbformat": 4,
 "nbformat_minor": 2
}
